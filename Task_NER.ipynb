{
 "cells": [
  {
   "cell_type": "markdown",
   "metadata": {},
   "source": [
    "## Task\n",
    "Neural network models for named entity recognition on the CoNLL-2003 corpus in IOB format.\n",
    "\n",
    "Chosen model: model with at least two convolutional layers and dense layers (or CRF). "
   ]
  },
  {
   "cell_type": "markdown",
   "metadata": {
    "colab": {},
    "colab_type": "code",
    "id": "fxsOLii4im8d"
   },
   "source": [
    "### Download data"
   ]
  },
  {
   "cell_type": "code",
   "execution_count": 1,
   "metadata": {
    "colab": {
     "base_uri": "https://localhost:8080/",
     "height": 578
    },
    "colab_type": "code",
    "id": "GbhCFdNqIcOJ",
    "outputId": "e6d8f022-bf4b-4f40-cbd3-8886888c295b"
   },
   "outputs": [
    {
     "name": "stdout",
     "output_type": "stream",
     "text": [
      "--2020-05-19 16:08:29--  https://raw.githubusercontent.com/synalp/NER/master/corpus/CoNLL-2003/eng.train\n",
      "Resolving raw.githubusercontent.com (raw.githubusercontent.com)... 151.101.244.133\n",
      "Connecting to raw.githubusercontent.com (raw.githubusercontent.com)|151.101.244.133|:443... connected.\n",
      "HTTP request sent, awaiting response... 200 OK\n",
      "Length: 3281528 (3,1M) [text/plain]\n",
      "Saving to: ‘./data/eng.train.2’\n",
      "\n",
      "eng.train.2         100%[===================>]   3,13M   435KB/s    in 7,5s    \n",
      "\n",
      "2020-05-19 16:08:37 (425 KB/s) - ‘./data/eng.train.2’ saved [3281528/3281528]\n",
      "\n",
      "--2020-05-19 16:08:37--  https://raw.githubusercontent.com/synalp/NER/master/corpus/CoNLL-2003/eng.testb\n",
      "Resolving raw.githubusercontent.com (raw.githubusercontent.com)... 151.101.244.133\n",
      "Connecting to raw.githubusercontent.com (raw.githubusercontent.com)|151.101.244.133|:443... connected.\n",
      "HTTP request sent, awaiting response... 200 OK\n",
      "Length: 748096 (731K) [text/plain]\n",
      "Saving to: ‘./data/eng.testb.2’\n",
      "\n",
      "eng.testb.2         100%[===================>] 730,56K  1,18MB/s    in 0,6s    \n",
      "\n",
      "2020-05-19 16:08:38 (1,18 MB/s) - ‘./data/eng.testb.2’ saved [748096/748096]\n",
      "\n",
      "--2020-05-19 16:08:38--  https://raw.githubusercontent.com/synalp/NER/master/corpus/CoNLL-2003/eng.testa\n",
      "Resolving raw.githubusercontent.com (raw.githubusercontent.com)... 151.101.244.133\n",
      "Connecting to raw.githubusercontent.com (raw.githubusercontent.com)|151.101.244.133|:443... connected.\n",
      "HTTP request sent, awaiting response... 200 OK\n",
      "Length: 827012 (808K) [text/plain]\n",
      "Saving to: ‘./data/eng.testa.2’\n",
      "\n",
      "eng.testa.2         100%[===================>] 807,63K  2,73MB/s    in 0,3s    \n",
      "\n",
      "2020-05-19 16:08:39 (2,73 MB/s) - ‘./data/eng.testa.2’ saved [827012/827012]\n",
      "\n"
     ]
    }
   ],
   "source": [
    "!wget https://raw.githubusercontent.com/synalp/NER/master/corpus/CoNLL-2003/eng.train -P ./data/\n",
    "!wget https://raw.githubusercontent.com/synalp/NER/master/corpus/CoNLL-2003/eng.testb -P ./data/\n",
    "!wget https://raw.githubusercontent.com/synalp/NER/master/corpus/CoNLL-2003/eng.testa -P ./data/"
   ]
  },
  {
   "cell_type": "code",
   "execution_count": 38,
   "metadata": {
    "colab": {
     "base_uri": "https://localhost:8080/",
     "height": 1000
    },
    "colab_type": "code",
    "id": "QaWc6bzYiXAJ",
    "outputId": "14aa33a9-0f54-4820-c301-7adb32c0259e"
   },
   "outputs": [
    {
     "name": "stdout",
     "output_type": "stream",
     "text": [
      "Collecting allennlp\n",
      "\u001b[?25l  Downloading https://files.pythonhosted.org/packages/bb/bb/041115d8bad1447080e5d1e30097c95e4b66e36074277afce8620a61cee3/allennlp-0.9.0-py3-none-any.whl (7.6MB)\n",
      "\u001b[K     |████████████████████████████████| 7.6MB 13.4MB/s \n",
      "\u001b[?25hRequirement already satisfied: scikit-learn in /usr/local/lib/python3.6/dist-packages (from allennlp) (0.22.2.post1)\n",
      "Collecting unidecode\n",
      "\u001b[?25l  Downloading https://files.pythonhosted.org/packages/d0/42/d9edfed04228bacea2d824904cae367ee9efd05e6cce7ceaaedd0b0ad964/Unidecode-1.1.1-py2.py3-none-any.whl (238kB)\n",
      "\u001b[K     |████████████████████████████████| 245kB 58.0MB/s \n",
      "\u001b[?25hCollecting tensorboardX>=1.2\n",
      "\u001b[?25l  Downloading https://files.pythonhosted.org/packages/35/f1/5843425495765c8c2dd0784a851a93ef204d314fc87bcc2bbb9f662a3ad1/tensorboardX-2.0-py2.py3-none-any.whl (195kB)\n",
      "\u001b[K     |████████████████████████████████| 204kB 52.5MB/s \n",
      "\u001b[?25hRequirement already satisfied: matplotlib>=2.2.3 in /usr/local/lib/python3.6/dist-packages (from allennlp) (3.2.1)\n",
      "Requirement already satisfied: flask>=1.0.2 in /usr/local/lib/python3.6/dist-packages (from allennlp) (1.1.2)\n",
      "Collecting numpydoc>=0.8.0\n",
      "  Downloading https://files.pythonhosted.org/packages/b0/70/4d8c3f9f6783a57ac9cc7a076e5610c0cc4a96af543cafc9247ac307fbfe/numpydoc-0.9.2.tar.gz\n",
      "Requirement already satisfied: numpy in /usr/local/lib/python3.6/dist-packages (from allennlp) (1.18.4)\n",
      "Collecting spacy<2.2,>=2.1.0\n",
      "\u001b[?25l  Downloading https://files.pythonhosted.org/packages/41/5b/e07dd3bf104237bce4b398558b104c8e500333d6f30eabe3fa9685356b7d/spacy-2.1.9-cp36-cp36m-manylinux1_x86_64.whl (30.8MB)\n",
      "\u001b[K     |████████████████████████████████| 30.9MB 109kB/s \n",
      "\u001b[?25hCollecting jsonpickle\n",
      "  Downloading https://files.pythonhosted.org/packages/af/ca/4fee219cc4113a5635e348ad951cf8a2e47fed2e3342312493f5b73d0007/jsonpickle-1.4.1-py2.py3-none-any.whl\n",
      "Collecting jsonnet>=0.10.0; sys_platform != \"win32\"\n",
      "\u001b[?25l  Downloading https://files.pythonhosted.org/packages/33/b8/a8588d4010f13716a324f55d23999259bad9db2320f4fe919a66b2f651f3/jsonnet-0.15.0.tar.gz (255kB)\n",
      "\u001b[K     |████████████████████████████████| 256kB 61.3MB/s \n",
      "\u001b[?25hCollecting conllu==1.3.1\n",
      "  Downloading https://files.pythonhosted.org/packages/ae/54/b0ae1199f3d01666821b028cd967f7c0ac527ab162af433d3da69242cea2/conllu-1.3.1-py2.py3-none-any.whl\n",
      "Collecting flask-cors>=3.0.7\n",
      "  Downloading https://files.pythonhosted.org/packages/78/38/e68b11daa5d613e3a91e4bf3da76c94ac9ee0d9cd515af9c1ab80d36f709/Flask_Cors-3.0.8-py2.py3-none-any.whl\n",
      "Requirement already satisfied: requests>=2.18 in /usr/local/lib/python3.6/dist-packages (from allennlp) (2.23.0)\n",
      "Collecting gevent>=1.3.6\n",
      "\u001b[?25l  Downloading https://files.pythonhosted.org/packages/9e/bd/04c4036f46f0272c804fce2c8308e06f8fb5db3b5c3adf97f8765bfa502c/gevent-20.5.0-cp36-cp36m-manylinux2010_x86_64.whl (5.2MB)\n",
      "\u001b[K     |████████████████████████████████| 5.2MB 50.3MB/s \n",
      "\u001b[?25hRequirement already satisfied: sqlparse>=0.2.4 in /usr/local/lib/python3.6/dist-packages (from allennlp) (0.3.1)\n",
      "Requirement already satisfied: nltk in /usr/local/lib/python3.6/dist-packages (from allennlp) (3.2.5)\n",
      "Collecting overrides\n",
      "  Downloading https://files.pythonhosted.org/packages/42/8d/caa729f809ecdf8e76fac3c1ff7d3f0b72c398c9dd8a6919927a30a873b3/overrides-3.0.0.tar.gz\n",
      "Requirement already satisfied: pytz>=2017.3 in /usr/local/lib/python3.6/dist-packages (from allennlp) (2018.9)\n",
      "Collecting pytorch-transformers==1.1.0\n",
      "\u001b[?25l  Downloading https://files.pythonhosted.org/packages/50/89/ad0d6bb932d0a51793eaabcf1617a36ff530dc9ab9e38f765a35dc293306/pytorch_transformers-1.1.0-py3-none-any.whl (158kB)\n",
      "\u001b[K     |████████████████████████████████| 163kB 50.9MB/s \n",
      "\u001b[?25hCollecting flaky\n",
      "  Downloading https://files.pythonhosted.org/packages/fe/12/0f169abf1aa07c7edef4855cca53703d2e6b7ecbded7829588ac7e7e3424/flaky-3.6.1-py2.py3-none-any.whl\n",
      "Collecting ftfy\n",
      "\u001b[?25l  Downloading https://files.pythonhosted.org/packages/ec/d8/5e877ac5e827eaa41a7ea8c0dc1d3042e05d7e337604dc2aedb854e7b500/ftfy-5.7.tar.gz (58kB)\n",
      "\u001b[K     |████████████████████████████████| 61kB 9.4MB/s \n",
      "\u001b[?25hRequirement already satisfied: scipy in /usr/local/lib/python3.6/dist-packages (from allennlp) (1.4.1)\n",
      "Requirement already satisfied: torch>=1.2.0 in /usr/local/lib/python3.6/dist-packages (from allennlp) (1.5.0+cu101)\n",
      "Collecting pytorch-pretrained-bert>=0.6.0\n",
      "\u001b[?25l  Downloading https://files.pythonhosted.org/packages/d7/e0/c08d5553b89973d9a240605b9c12404bcf8227590de62bae27acbcfe076b/pytorch_pretrained_bert-0.6.2-py3-none-any.whl (123kB)\n",
      "\u001b[K     |████████████████████████████████| 133kB 36.0MB/s \n",
      "\u001b[?25hRequirement already satisfied: pytest in /usr/local/lib/python3.6/dist-packages (from allennlp) (3.6.4)\n",
      "Requirement already satisfied: tqdm>=4.19 in /usr/local/lib/python3.6/dist-packages (from allennlp) (4.41.1)\n",
      "Requirement already satisfied: editdistance in /usr/local/lib/python3.6/dist-packages (from allennlp) (0.5.3)\n",
      "Collecting responses>=0.7\n",
      "  Downloading https://files.pythonhosted.org/packages/01/0c/e4da4191474e27bc41bedab2bf249b27d9261db749f59769d7e7ca8feead/responses-0.10.14-py2.py3-none-any.whl\n",
      "Requirement already satisfied: boto3 in /usr/local/lib/python3.6/dist-packages (from allennlp) (1.13.4)\n",
      "Collecting parsimonious>=0.8.0\n",
      "\u001b[?25l  Downloading https://files.pythonhosted.org/packages/02/fc/067a3f89869a41009e1a7cdfb14725f8ddd246f30f63c645e8ef8a1c56f4/parsimonious-0.8.1.tar.gz (45kB)\n",
      "\u001b[K     |████████████████████████████████| 51kB 8.8MB/s \n",
      "\u001b[?25hCollecting word2number>=1.1\n",
      "  Downloading https://files.pythonhosted.org/packages/4a/29/a31940c848521f0725f0df6b25dca8917f13a2025b0e8fcbe5d0457e45e6/word2number-1.1.zip\n",
      "Requirement already satisfied: h5py in /usr/local/lib/python3.6/dist-packages (from allennlp) (2.10.0)\n",
      "Requirement already satisfied: joblib>=0.11 in /usr/local/lib/python3.6/dist-packages (from scikit-learn->allennlp) (0.14.1)\n",
      "Requirement already satisfied: six in /usr/local/lib/python3.6/dist-packages (from tensorboardX>=1.2->allennlp) (1.12.0)\n",
      "Requirement already satisfied: protobuf>=3.8.0 in /usr/local/lib/python3.6/dist-packages (from tensorboardX>=1.2->allennlp) (3.10.0)\n",
      "Requirement already satisfied: pyparsing!=2.0.4,!=2.1.2,!=2.1.6,>=2.0.1 in /usr/local/lib/python3.6/dist-packages (from matplotlib>=2.2.3->allennlp) (2.4.7)\n",
      "Requirement already satisfied: cycler>=0.10 in /usr/local/lib/python3.6/dist-packages (from matplotlib>=2.2.3->allennlp) (0.10.0)\n",
      "Requirement already satisfied: python-dateutil>=2.1 in /usr/local/lib/python3.6/dist-packages (from matplotlib>=2.2.3->allennlp) (2.8.1)\n",
      "Requirement already satisfied: kiwisolver>=1.0.1 in /usr/local/lib/python3.6/dist-packages (from matplotlib>=2.2.3->allennlp) (1.2.0)\n",
      "Requirement already satisfied: Werkzeug>=0.15 in /usr/local/lib/python3.6/dist-packages (from flask>=1.0.2->allennlp) (1.0.1)\n",
      "Requirement already satisfied: Jinja2>=2.10.1 in /usr/local/lib/python3.6/dist-packages (from flask>=1.0.2->allennlp) (2.11.2)\n",
      "Requirement already satisfied: click>=5.1 in /usr/local/lib/python3.6/dist-packages (from flask>=1.0.2->allennlp) (7.1.2)\n",
      "Requirement already satisfied: itsdangerous>=0.24 in /usr/local/lib/python3.6/dist-packages (from flask>=1.0.2->allennlp) (1.1.0)\n",
      "Requirement already satisfied: sphinx>=1.6.5 in /usr/local/lib/python3.6/dist-packages (from numpydoc>=0.8.0->allennlp) (1.8.5)\n",
      "Requirement already satisfied: cymem<2.1.0,>=2.0.2 in /usr/local/lib/python3.6/dist-packages (from spacy<2.2,>=2.1.0->allennlp) (2.0.3)\n",
      "Requirement already satisfied: srsly<1.1.0,>=0.0.6 in /usr/local/lib/python3.6/dist-packages (from spacy<2.2,>=2.1.0->allennlp) (1.0.2)\n",
      "Collecting preshed<2.1.0,>=2.0.1\n",
      "\u001b[?25l  Downloading https://files.pythonhosted.org/packages/20/93/f222fb957764a283203525ef20e62008675fd0a14ffff8cc1b1490147c63/preshed-2.0.1-cp36-cp36m-manylinux1_x86_64.whl (83kB)\n",
      "\u001b[K     |████████████████████████████████| 92kB 13.7MB/s \n",
      "\u001b[?25hCollecting blis<0.3.0,>=0.2.2\n",
      "\u001b[?25l  Downloading https://files.pythonhosted.org/packages/34/46/b1d0bb71d308e820ed30316c5f0a017cb5ef5f4324bcbc7da3cf9d3b075c/blis-0.2.4-cp36-cp36m-manylinux1_x86_64.whl (3.2MB)\n",
      "\u001b[K     |████████████████████████████████| 3.2MB 47.5MB/s \n",
      "\u001b[?25hRequirement already satisfied: wasabi<1.1.0,>=0.2.0 in /usr/local/lib/python3.6/dist-packages (from spacy<2.2,>=2.1.0->allennlp) (0.6.0)\n",
      "Requirement already satisfied: murmurhash<1.1.0,>=0.28.0 in /usr/local/lib/python3.6/dist-packages (from spacy<2.2,>=2.1.0->allennlp) (1.0.2)\n",
      "Collecting thinc<7.1.0,>=7.0.8\n",
      "\u001b[?25l  Downloading https://files.pythonhosted.org/packages/18/a5/9ace20422e7bb1bdcad31832ea85c52a09900cd4a7ce711246bfb92206ba/thinc-7.0.8-cp36-cp36m-manylinux1_x86_64.whl (2.1MB)\n",
      "\u001b[K     |████████████████████████████████| 2.1MB 47.9MB/s \n",
      "\u001b[?25hCollecting plac<1.0.0,>=0.9.6\n",
      "  Downloading https://files.pythonhosted.org/packages/9e/9b/62c60d2f5bc135d2aa1d8c8a86aaf84edb719a59c7f11a4316259e61a298/plac-0.9.6-py2.py3-none-any.whl\n",
      "Requirement already satisfied: importlib-metadata in /usr/local/lib/python3.6/dist-packages (from jsonpickle->allennlp) (1.6.0)\n",
      "Requirement already satisfied: idna<3,>=2.5 in /usr/local/lib/python3.6/dist-packages (from requests>=2.18->allennlp) (2.9)\n",
      "Requirement already satisfied: certifi>=2017.4.17 in /usr/local/lib/python3.6/dist-packages (from requests>=2.18->allennlp) (2020.4.5.1)\n",
      "Requirement already satisfied: chardet<4,>=3.0.2 in /usr/local/lib/python3.6/dist-packages (from requests>=2.18->allennlp) (3.0.4)\n",
      "Requirement already satisfied: urllib3!=1.25.0,!=1.25.1,<1.26,>=1.21.1 in /usr/local/lib/python3.6/dist-packages (from requests>=2.18->allennlp) (1.24.3)\n",
      "Collecting greenlet>=0.4.14; platform_python_implementation == \"CPython\"\n",
      "\u001b[?25l  Downloading https://files.pythonhosted.org/packages/bf/45/142141aa47e01a5779f0fa5a53b81f8379ce8f2b1cd13df7d2f1d751ae42/greenlet-0.4.15-cp36-cp36m-manylinux1_x86_64.whl (41kB)\n",
      "\u001b[K     |████████████████████████████████| 51kB 8.2MB/s \n",
      "\u001b[?25hRequirement already satisfied: regex in /usr/local/lib/python3.6/dist-packages (from pytorch-transformers==1.1.0->allennlp) (2019.12.20)\n",
      "Collecting sentencepiece\n",
      "\u001b[?25l  Downloading https://files.pythonhosted.org/packages/3b/88/49e772d686088e1278766ad68a463513642a2a877487decbd691dec02955/sentencepiece-0.1.90-cp36-cp36m-manylinux1_x86_64.whl (1.1MB)\n",
      "\u001b[K     |████████████████████████████████| 1.1MB 46.4MB/s \n",
      "\u001b[?25hRequirement already satisfied: wcwidth in /usr/local/lib/python3.6/dist-packages (from ftfy->allennlp) (0.1.9)\n",
      "Requirement already satisfied: future in /usr/local/lib/python3.6/dist-packages (from torch>=1.2.0->allennlp) (0.16.0)\n",
      "Requirement already satisfied: more-itertools>=4.0.0 in /usr/local/lib/python3.6/dist-packages (from pytest->allennlp) (8.2.0)\n",
      "Requirement already satisfied: pluggy<0.8,>=0.5 in /usr/local/lib/python3.6/dist-packages (from pytest->allennlp) (0.7.1)\n",
      "Requirement already satisfied: attrs>=17.4.0 in /usr/local/lib/python3.6/dist-packages (from pytest->allennlp) (19.3.0)\n",
      "Requirement already satisfied: py>=1.5.0 in /usr/local/lib/python3.6/dist-packages (from pytest->allennlp) (1.8.1)\n",
      "Requirement already satisfied: atomicwrites>=1.0 in /usr/local/lib/python3.6/dist-packages (from pytest->allennlp) (1.4.0)\n",
      "Requirement already satisfied: setuptools in /usr/local/lib/python3.6/dist-packages (from pytest->allennlp) (46.3.0)\n",
      "Requirement already satisfied: botocore<1.17.0,>=1.16.4 in /usr/local/lib/python3.6/dist-packages (from boto3->allennlp) (1.16.4)\n",
      "Requirement already satisfied: jmespath<1.0.0,>=0.7.1 in /usr/local/lib/python3.6/dist-packages (from boto3->allennlp) (0.9.5)\n",
      "Requirement already satisfied: s3transfer<0.4.0,>=0.3.0 in /usr/local/lib/python3.6/dist-packages (from boto3->allennlp) (0.3.3)\n",
      "Requirement already satisfied: MarkupSafe>=0.23 in /usr/local/lib/python3.6/dist-packages (from Jinja2>=2.10.1->flask>=1.0.2->allennlp) (1.1.1)\n",
      "Requirement already satisfied: docutils>=0.11 in /usr/local/lib/python3.6/dist-packages (from sphinx>=1.6.5->numpydoc>=0.8.0->allennlp) (0.15.2)\n",
      "Requirement already satisfied: babel!=2.0,>=1.3 in /usr/local/lib/python3.6/dist-packages (from sphinx>=1.6.5->numpydoc>=0.8.0->allennlp) (2.8.0)\n",
      "Requirement already satisfied: alabaster<0.8,>=0.7 in /usr/local/lib/python3.6/dist-packages (from sphinx>=1.6.5->numpydoc>=0.8.0->allennlp) (0.7.12)\n",
      "Requirement already satisfied: sphinxcontrib-websupport in /usr/local/lib/python3.6/dist-packages (from sphinx>=1.6.5->numpydoc>=0.8.0->allennlp) (1.2.2)\n",
      "Requirement already satisfied: Pygments>=2.0 in /usr/local/lib/python3.6/dist-packages (from sphinx>=1.6.5->numpydoc>=0.8.0->allennlp) (2.1.3)\n",
      "Requirement already satisfied: snowballstemmer>=1.1 in /usr/local/lib/python3.6/dist-packages (from sphinx>=1.6.5->numpydoc>=0.8.0->allennlp) (2.0.0)\n",
      "Requirement already satisfied: packaging in /usr/local/lib/python3.6/dist-packages (from sphinx>=1.6.5->numpydoc>=0.8.0->allennlp) (20.3)\n",
      "Requirement already satisfied: imagesize in /usr/local/lib/python3.6/dist-packages (from sphinx>=1.6.5->numpydoc>=0.8.0->allennlp) (1.2.0)\n",
      "Requirement already satisfied: zipp>=0.5 in /usr/local/lib/python3.6/dist-packages (from importlib-metadata->jsonpickle->allennlp) (3.1.0)\n",
      "Building wheels for collected packages: numpydoc, jsonnet, overrides, ftfy, parsimonious, word2number\n",
      "  Building wheel for numpydoc (setup.py) ... \u001b[?25l\u001b[?25hdone\n",
      "  Created wheel for numpydoc: filename=numpydoc-0.9.2-cp36-none-any.whl size=31893 sha256=387d9e4734a6777c000d443bd37a345cdbc18b1847da79fc7f2f65eef5f81252\n",
      "  Stored in directory: /root/.cache/pip/wheels/96/f3/52/25c8e1f40637661d27feebc61dae16b84c7cdd93b8bc3d7486\n",
      "  Building wheel for jsonnet (setup.py) ... \u001b[?25l\u001b[?25hdone\n",
      "  Created wheel for jsonnet: filename=jsonnet-0.15.0-cp36-cp36m-linux_x86_64.whl size=3319813 sha256=d6f89e0dec06b891445ee42661dc95586222bc210eb234f71856fc149c10c005\n",
      "  Stored in directory: /root/.cache/pip/wheels/57/63/2e/da89cfe1ba08550bd7262d5d9c027edc313980c3b85b3b0a38\n",
      "  Building wheel for overrides (setup.py) ... \u001b[?25l\u001b[?25hdone\n",
      "  Created wheel for overrides: filename=overrides-3.0.0-cp36-none-any.whl size=5669 sha256=0bf53b663ceb892804fbc4c7e4990924da4f1f48588a8c67787a0cacd7fc6bbe\n",
      "  Stored in directory: /root/.cache/pip/wheels/6f/1b/ec/6c71a1eb823df7f850d956b2d8c50a6d49c191e1063d73b9be\n",
      "  Building wheel for ftfy (setup.py) ... \u001b[?25l\u001b[?25hdone\n",
      "  Created wheel for ftfy: filename=ftfy-5.7-cp36-none-any.whl size=44593 sha256=cae3fdbd0fc57d1b074542e654274cc85f4b2b4dd8e263bb7c46fd275f76915c\n",
      "  Stored in directory: /root/.cache/pip/wheels/8e/da/59/6c8925d571aacade638a0f515960c21c0887af1bfe31908fbf\n",
      "  Building wheel for parsimonious (setup.py) ... \u001b[?25l\u001b[?25hdone\n",
      "  Created wheel for parsimonious: filename=parsimonious-0.8.1-cp36-none-any.whl size=42712 sha256=e1ddce1008447e5ad9bf10bf4c4a0eb248d36497f452d0204ac5569eac7d6fb2\n",
      "  Stored in directory: /root/.cache/pip/wheels/b7/8d/e7/a0e74217da5caeb3c1c7689639b6d28ddbf9985b840bc96a9a\n",
      "  Building wheel for word2number (setup.py) ... \u001b[?25l\u001b[?25hdone\n",
      "  Created wheel for word2number: filename=word2number-1.1-cp36-none-any.whl size=5587 sha256=7e4a74e1192104d80af132642ecb984051a99c90f67ee79de63ac82af95f6610\n",
      "  Stored in directory: /root/.cache/pip/wheels/46/2f/53/5f5c1d275492f2fce1cdab9a9bb12d49286dead829a4078e0e\n",
      "Successfully built numpydoc jsonnet overrides ftfy parsimonious word2number\n",
      "\u001b[31mERROR: en-core-web-sm 2.2.5 has requirement spacy>=2.2.2, but you'll have spacy 2.1.9 which is incompatible.\u001b[0m\n",
      "Installing collected packages: unidecode, tensorboardX, numpydoc, preshed, blis, plac, thinc, spacy, jsonpickle, jsonnet, conllu, flask-cors, greenlet, gevent, overrides, sentencepiece, pytorch-transformers, flaky, ftfy, pytorch-pretrained-bert, responses, parsimonious, word2number, allennlp\n",
      "  Found existing installation: preshed 3.0.2\n",
      "    Uninstalling preshed-3.0.2:\n",
      "      Successfully uninstalled preshed-3.0.2\n",
      "  Found existing installation: blis 0.4.1\n",
      "    Uninstalling blis-0.4.1:\n",
      "      Successfully uninstalled blis-0.4.1\n",
      "  Found existing installation: plac 1.1.3\n",
      "    Uninstalling plac-1.1.3:\n",
      "      Successfully uninstalled plac-1.1.3\n",
      "  Found existing installation: thinc 7.4.0\n",
      "    Uninstalling thinc-7.4.0:\n",
      "      Successfully uninstalled thinc-7.4.0\n",
      "  Found existing installation: spacy 2.2.4\n",
      "    Uninstalling spacy-2.2.4:\n",
      "      Successfully uninstalled spacy-2.2.4\n",
      "Successfully installed allennlp-0.9.0 blis-0.2.4 conllu-1.3.1 flaky-3.6.1 flask-cors-3.0.8 ftfy-5.7 gevent-20.5.0 greenlet-0.4.15 jsonnet-0.15.0 jsonpickle-1.4.1 numpydoc-0.9.2 overrides-3.0.0 parsimonious-0.8.1 plac-0.9.6 preshed-2.0.1 pytorch-pretrained-bert-0.6.2 pytorch-transformers-1.1.0 responses-0.10.14 sentencepiece-0.1.90 spacy-2.1.9 tensorboardX-2.0 thinc-7.0.8 unidecode-1.1.1 word2number-1.1\n"
     ]
    }
   ],
   "source": [
    "# !pip install allennlp"
   ]
  },
  {
   "cell_type": "markdown",
   "metadata": {},
   "source": [
    "Read data in Conll-2003 format"
   ]
  },
  {
   "cell_type": "code",
   "execution_count": 2,
   "metadata": {
    "colab": {},
    "colab_type": "code",
    "id": "nKf2GrK5lZai"
   },
   "outputs": [],
   "source": [
    "from allennlp.data.dataset_readers.conll2003 import Conll2003DatasetReader"
   ]
  },
  {
   "cell_type": "code",
   "execution_count": 3,
   "metadata": {
    "colab": {
     "base_uri": "https://localhost:8080/",
     "height": 425
    },
    "colab_type": "code",
    "id": "c2dlE-qdmJ5q",
    "outputId": "3f942e9c-1478-47d1-e0bd-f753d88499f7"
   },
   "outputs": [
    {
     "name": "stderr",
     "output_type": "stream",
     "text": [
      "14041it [00:01, 11247.61it/s]\n",
      "3250it [00:00, 8317.74it/s]\n",
      "3453it [00:00, 8746.67it/s] \n"
     ]
    }
   ],
   "source": [
    "reader = Conll2003DatasetReader()\n",
    "train_instances = reader.read('data/eng.train')\n",
    "dev_instances = reader.read('data/eng.testa')\n",
    "test_instances = reader.read('data/eng.testb')\n"
   ]
  },
  {
   "cell_type": "code",
   "execution_count": 4,
   "metadata": {
    "colab": {
     "base_uri": "https://localhost:8080/",
     "height": 34
    },
    "colab_type": "code",
    "id": "mERSmofDJAUX",
    "outputId": "0bac81a7-daf8-49b3-94dd-578ab05f9daf"
   },
   "outputs": [
    {
     "data": {
      "text/plain": [
       "(14041, 3250, 3453)"
      ]
     },
     "execution_count": 4,
     "metadata": {},
     "output_type": "execute_result"
    }
   ],
   "source": [
    "len(train_instances), len(dev_instances), len(test_instances)"
   ]
  },
  {
   "cell_type": "code",
   "execution_count": 5,
   "metadata": {
    "colab": {},
    "colab_type": "code",
    "id": "We6XjFc5iU65"
   },
   "outputs": [],
   "source": [
    "from allennlp.models import Model\n",
    "from allennlp.modules.text_field_embedders import TextFieldEmbedder, BasicTextFieldEmbedder\n",
    "from allennlp.modules.token_embedders import Embedding\n",
    "from allennlp.training.metrics import SpanBasedF1Measure\n",
    "from allennlp.training.trainer import Trainer\n",
    "from allennlp.nn import util as nn_util "
   ]
  },
  {
   "cell_type": "code",
   "execution_count": 6,
   "metadata": {
    "colab": {},
    "colab_type": "code",
    "id": "Ie1F2MsYPh7I"
   },
   "outputs": [],
   "source": [
    "import torch\n",
    "import torch.nn as nn\n",
    "import torch.optim as optim\n",
    "import torch.nn.functional as F\n",
    "from torch.nn.utils.rnn import pad_packed_sequence, pack_sequence"
   ]
  },
  {
   "cell_type": "code",
   "execution_count": 7,
   "metadata": {
    "colab": {},
    "colab_type": "code",
    "id": "dk0pbe1EQTSj"
   },
   "outputs": [],
   "source": [
    "from allennlp.nn.util import get_text_field_mask, sequence_cross_entropy_with_logits\n",
    "from typing import Dict, Optional, List"
   ]
  },
  {
   "cell_type": "code",
   "execution_count": 8,
   "metadata": {
    "colab": {},
    "colab_type": "code",
    "id": "cSwTGyinloTA"
   },
   "outputs": [],
   "source": [
    "from allennlp.data.vocabulary import Vocabulary   \n",
    "from allennlp.data.iterators import BucketIterator"
   ]
  },
  {
   "cell_type": "code",
   "execution_count": 9,
   "metadata": {
    "colab": {
     "base_uri": "https://localhost:8080/",
     "height": 34
    },
    "colab_type": "code",
    "id": "qXXTMU2Uqdko",
    "outputId": "7b362dc2-94ad-40d0-9d0e-95d373f6f146"
   },
   "outputs": [
    {
     "data": {
      "text/plain": [
       "<torch._C.Generator at 0x7ff32b083a70>"
      ]
     },
     "execution_count": 9,
     "metadata": {},
     "output_type": "execute_result"
    }
   ],
   "source": [
    "torch.manual_seed(11)"
   ]
  },
  {
   "cell_type": "code",
   "execution_count": 10,
   "metadata": {
    "colab": {},
    "colab_type": "code",
    "id": "Sm8aEvq-lMPr"
   },
   "outputs": [],
   "source": [
    "USE_GPU = torch.cuda.is_available()"
   ]
  },
  {
   "cell_type": "markdown",
   "metadata": {},
   "source": [
    "### Model\n",
    "The model uses pretrained Glove word embeddings, char-CNN with 3 filter sizes for char-level embeddings and 3-layer CNN for contextual word embeddings (based on the model proposed in https://arxiv.org/pdf/1707.05928.pdf)."
   ]
  },
  {
   "cell_type": "code",
   "execution_count": 11,
   "metadata": {
    "colab": {},
    "colab_type": "code",
    "id": "VkLjHHHZU0pg"
   },
   "outputs": [],
   "source": [
    "class CharCNNEmbedder(nn.Module):\n",
    "    def __init__(self,\n",
    "             char_map: Dict[str, int],\n",
    "             char_embedding_dim: int,\n",
    "             char_n_filters: int,\n",
    "             char_filter_sizes: List[int],\n",
    "             char_out_dim: int,\n",
    "             dropout: float) -> None:\n",
    "        \n",
    "        super().__init__()\n",
    "\n",
    "        self.char_map = char_map\n",
    "        self.char_embedder = nn.Embedding(len(char_map), char_embedding_dim, padding_idx=char_map['<pad>'])\n",
    "        self.conv_0 = nn.utils.weight_norm(nn.Conv1d(char_embedding_dim, char_n_filters, char_filter_sizes[0]))\n",
    "        self.conv_1 = nn.utils.weight_norm(nn.Conv1d(char_embedding_dim, char_n_filters, char_filter_sizes[1]))\n",
    "        self.conv_2 = nn.utils.weight_norm(nn.Conv1d(char_embedding_dim, char_n_filters, char_filter_sizes[2]))\n",
    "        self.linear = nn.Linear(in_features=len(char_filter_sizes) * char_n_filters, out_features = char_out_dim)\n",
    "        self.dropout = nn.Dropout(dropout)\n",
    "\n",
    "    def _tokens_to_char_indices(self, token, max_token_len=20):\n",
    "        token = str(token)\n",
    "        if len(token) <  max_token_len:\n",
    "            token_char_indices = [self.char_map[ch] if ch in self.char_map.keys() else self.char_map['<unk>'] for ch in token] + \\\n",
    "                                [self.char_map['<pad>']]*(max_token_len - len(token))\n",
    "        else:\n",
    "            token_char_indices = [self.char_map[ch] if ch in self.char_map.keys() else self.char_map['<unk>'] for ch in token[:max_token_len]]\n",
    "        return token_char_indices\n",
    "\n",
    "    def forward(self, tokens_sequences):\n",
    "        tokens_tensor, tokens_lengths = pad_packed_sequence(pack_sequence([torch.LongTensor([self._tokens_to_char_indices(token) for token in item['words']]) \n",
    "                                                      for item in tokens_sequences], enforce_sorted=False))\n",
    "        tokens_tensor = nn_util.move_to_device(tokens_tensor.permute(1,0,2), 0 if USE_GPU else -1)\n",
    "        embedded = self.char_embedder(tokens_tensor.reshape(-1,tokens_tensor.size(2)))\n",
    "\n",
    "        conved_0 = F.relu(self.conv_0(embedded.permute(0,2,1)))\n",
    "        conved_1 = F.relu(self.conv_1(embedded.permute(0,2,1)))\n",
    "        conved_2 = F.relu(self.conv_2(embedded.permute(0,2,1)))\n",
    "\n",
    "        pooled_0 = F.max_pool1d(conved_0, conved_0.size(2))\n",
    "        pooled_1 = F.max_pool1d(conved_1, conved_1.size(2))\n",
    "        pooled_2 = F.max_pool1d(conved_2, conved_2.size(2))\n",
    "\n",
    "        linear_out = self.linear(self.dropout(torch.cat((pooled_0, pooled_1, pooled_2), dim=1).permute(0,2,1))).squeeze()\n",
    "        return linear_out\n"
   ]
  },
  {
   "cell_type": "code",
   "execution_count": 12,
   "metadata": {
    "colab": {},
    "colab_type": "code",
    "id": "wPIoMoR7ttpz"
   },
   "outputs": [],
   "source": [
    "class NerCNNModel(Model):\n",
    "    def __init__(self,\n",
    "                 vocab: Vocabulary,\n",
    "                 embedder: TextFieldEmbedder,\n",
    "                 embedding_dim: int, \n",
    "                 n_filters: int, \n",
    "                 filter_sizes: List[int], \n",
    "                 dropout: float,\n",
    "                 char_map: Dict[str, int],\n",
    "                 char_embedding_dim: int,\n",
    "                 char_n_filters: int,\n",
    "                 char_filter_sizes: List[int],\n",
    "                 char_out_dim: int) -> None:\n",
    "        super().__init__(vocab)\n",
    "\n",
    "        self._embedder = embedder\n",
    "        self._char_embedder = CharCNNEmbedder(char_map, char_embedding_dim, char_n_filters, char_filter_sizes, char_out_dim, dropout)\n",
    "        self._conv_0 = nn.utils.weight_norm(nn.Conv1d(embedding_dim + char_embedding_dim, n_filters, filter_sizes[0], padding = 1))\n",
    "        self._conv_1 = nn.utils.weight_norm(nn.Conv1d(n_filters, n_filters, filter_sizes[1], padding = 1))\n",
    "        self._conv_2 = nn.utils.weight_norm(nn.Conv1d(n_filters, n_filters, filter_sizes[2], padding = 1))\n",
    "        self._classifier = nn.Linear(in_features=n_filters + embedding_dim + char_embedding_dim, out_features=vocab.get_vocab_size('labels')) # emb = concat(word_conv,word_emb,char_emb)\n",
    "        self._dropout = nn.Dropout(dropout)\n",
    "\n",
    "        self._f1 = SpanBasedF1Measure(vocab, 'labels')\n",
    "\n",
    "    def forward(self,\n",
    "                tokens: Dict[str, torch.Tensor],\n",
    "                tags: Optional[torch.Tensor] = None,\n",
    "                metadata = List[Dict[str, List[str]]]) -> Dict[str, torch.Tensor]:\n",
    "        mask = get_text_field_mask(tokens)\n",
    "\n",
    "        embedded = self._embedder(tokens)\n",
    "        embedded = embedded.permute(0, 2, 1)\n",
    "\n",
    "        char_embedded = self._char_embedder(metadata)\n",
    "        char_embedded = char_embedded.reshape(embedded.size(0), embedded.size(2), -1).permute(0,2,1)\n",
    "\n",
    "        conved_0 = self._dropout(F.relu(self._conv_0(torch.cat((char_embedded, embedded), dim=1))))\n",
    "        conved_1 = self._dropout(F.relu(self._conv_1(conved_0)))\n",
    "        conved_2 = self._dropout(F.relu(self._conv_2(conved_1)))\n",
    "\n",
    "        classified = self._classifier(torch.cat((conved_2, char_embedded, embedded), dim=1).permute(0,2,1))\n",
    "\n",
    "        self._f1(classified, tags, mask)\n",
    "\n",
    "        output: Dict[str, torch.Tensor] = {}\n",
    "        output['logits'] = classified\n",
    "\n",
    "        if tags is not None:\n",
    "            output[\"loss\"] = sequence_cross_entropy_with_logits(classified, tags, mask)\n",
    "\n",
    "        return output\n",
    "\n",
    "    def get_metrics(self, reset: bool = True) -> Dict[str, float]:\n",
    "        return self._f1.get_metric(reset)"
   ]
  },
  {
   "cell_type": "code",
   "execution_count": 13,
   "metadata": {
    "colab": {
     "base_uri": "https://localhost:8080/",
     "height": 68
    },
    "colab_type": "code",
    "id": "YCWjVRHctTBC",
    "outputId": "c28784d8-eb69-4f73-9d01-393f83b06a29"
   },
   "outputs": [
    {
     "name": "stderr",
     "output_type": "stream",
     "text": [
      "100%|██████████| 14041/14041 [00:00<00:00, 54162.23it/s]\n"
     ]
    }
   ],
   "source": [
    "from allennlp.data.vocabulary import Vocabulary   \n",
    "from allennlp.data.iterators import BucketIterator\n",
    "\n",
    "BATCH_SIZE = 64\n",
    "MAX_VOCAB_SIZE = 100000\n",
    "\n",
    "vocab = Vocabulary.from_instances(train_instances, max_vocab_size=MAX_VOCAB_SIZE)\n",
    "\n",
    "iterator = BucketIterator(batch_size=BATCH_SIZE, \n",
    "                          sorting_keys=[(\"tokens\", \"num_tokens\")])\n",
    "iterator.index_with(vocab)\n",
    "\n",
    "EMBEDDING_DIM = 50 # dimension of pretrained word embeddings\n",
    "\n",
    "token_embedding = Embedding(num_embeddings=vocab.get_vocab_size('tokens'),\n",
    "                            pretrained_file = \"http://nlp.stanford.edu/data/glove.6B.zip\",\n",
    "                            embedding_dim=EMBEDDING_DIM)\n",
    "word_embeddings = BasicTextFieldEmbedder({\"tokens\": token_embedding})"
   ]
  },
  {
   "cell_type": "code",
   "execution_count": 14,
   "metadata": {
    "colab": {},
    "colab_type": "code",
    "id": "o2RR0E4jG3lY"
   },
   "outputs": [],
   "source": [
    "# vocabulary for char embeddings\n",
    "CHARS = '0123456789abcdefghijklmnopqrstuvwxyzABCDEFGHIJKLMNOPQRSTUVWXYZ!\"#$%&\\'()*+,-./:;<=>?@[\\\\]^_`{|}~'\n",
    "char_to_id = dict([(char,i+1) for i, char in enumerate(list(CHARS))])\n",
    "char_to_id['<unk>'] = len(list(CHARS))\n",
    "char_to_id['<pad>'] = 0"
   ]
  },
  {
   "cell_type": "code",
   "execution_count": 15,
   "metadata": {
    "colab": {},
    "colab_type": "code",
    "id": "FKzIKwIW7JcP"
   },
   "outputs": [],
   "source": [
    "N_FILTERS = 200 # number of filters for word CNN\n",
    "FILTER_SIZES = [3,3,3] # filter sizes for word CNN\n",
    "DROPOUT = 0.1 \n",
    "CHAR_EMBEDDING_DIM = 50 # dimension of char embeddings\n",
    "CHAR_N_FILTERS = 50 # number of filters for char CNN\n",
    "CHAR_FILTER_SIZES = [2,3,4] # filter sizes for char CNN\n",
    "CHAR_OUT_DIM = 50 # dimension of output char-CNN embeddings"
   ]
  },
  {
   "cell_type": "code",
   "execution_count": 16,
   "metadata": {
    "colab": {},
    "colab_type": "code",
    "id": "LJfRHrr7xhLz"
   },
   "outputs": [],
   "source": [
    "model = NerCNNModel(\n",
    "    vocab,\n",
    "    word_embeddings, \n",
    "    EMBEDDING_DIM,\n",
    "    N_FILTERS,\n",
    "    FILTER_SIZES,\n",
    "    DROPOUT,\n",
    "    char_to_id,\n",
    "    CHAR_EMBEDDING_DIM,\n",
    "    CHAR_N_FILTERS,\n",
    "    CHAR_FILTER_SIZES,\n",
    "    CHAR_OUT_DIM\n",
    ")"
   ]
  },
  {
   "cell_type": "code",
   "execution_count": 18,
   "metadata": {
    "colab": {},
    "colab_type": "code",
    "id": "sWM5znByxiI2"
   },
   "outputs": [],
   "source": [
    "if USE_GPU: model.cuda()\n",
    "else: model"
   ]
  },
  {
   "cell_type": "code",
   "execution_count": 19,
   "metadata": {
    "colab": {
     "base_uri": "https://localhost:8080/",
     "height": 323
    },
    "colab_type": "code",
    "id": "LQ8qKFNOxkAn",
    "outputId": "37c0b97c-e438-46c0-da26-0481048facfa"
   },
   "outputs": [
    {
     "data": {
      "text/plain": [
       "NerCNNModel(\n",
       "  (_embedder): BasicTextFieldEmbedder(\n",
       "    (token_embedder_tokens): Embedding()\n",
       "  )\n",
       "  (_char_embedder): CharCNNEmbedder(\n",
       "    (char_embedder): Embedding(96, 50, padding_idx=0)\n",
       "    (conv_0): Conv1d(50, 50, kernel_size=(2,), stride=(1,))\n",
       "    (conv_1): Conv1d(50, 50, kernel_size=(3,), stride=(1,))\n",
       "    (conv_2): Conv1d(50, 50, kernel_size=(4,), stride=(1,))\n",
       "    (linear): Linear(in_features=150, out_features=50, bias=True)\n",
       "    (dropout): Dropout(p=0.1, inplace=False)\n",
       "  )\n",
       "  (_conv_0): Conv1d(100, 200, kernel_size=(3,), stride=(1,), padding=(1,))\n",
       "  (_conv_1): Conv1d(200, 200, kernel_size=(3,), stride=(1,), padding=(1,))\n",
       "  (_conv_2): Conv1d(200, 200, kernel_size=(3,), stride=(1,), padding=(1,))\n",
       "  (_classifier): Linear(in_features=300, out_features=8, bias=True)\n",
       "  (_dropout): Dropout(p=0.1, inplace=False)\n",
       ")"
      ]
     },
     "execution_count": 19,
     "metadata": {},
     "output_type": "execute_result"
    }
   ],
   "source": [
    "model"
   ]
  },
  {
   "cell_type": "markdown",
   "metadata": {},
   "source": [
    "### Training"
   ]
  },
  {
   "cell_type": "code",
   "execution_count": 20,
   "metadata": {
    "colab": {},
    "colab_type": "code",
    "id": "ylMO_-Tax0MF"
   },
   "outputs": [],
   "source": [
    "optimizer = optim.SGD(model.parameters(), lr=10e-3)"
   ]
  },
  {
   "cell_type": "code",
   "execution_count": 21,
   "metadata": {
    "colab": {},
    "colab_type": "code",
    "id": "eB9F_wOXx3nb"
   },
   "outputs": [],
   "source": [
    "NUM_EPOCHS = 100\n",
    "PATIENCE = 10\n",
    "\n",
    "trainer = Trainer(model=model,\n",
    "                  optimizer=optimizer,\n",
    "                  iterator=iterator,\n",
    "                  train_dataset=train_instances,\n",
    "                  validation_dataset=dev_instances,\n",
    "                  patience=PATIENCE,\n",
    "                  num_epochs=NUM_EPOCHS,\n",
    "                  cuda_device=0 if USE_GPU else -1)"
   ]
  },
  {
   "cell_type": "code",
   "execution_count": 22,
   "metadata": {},
   "outputs": [
    {
     "name": "stderr",
     "output_type": "stream",
     "text": [
      "precision-LOC: 0.0039, recall-LOC: 0.0003, f1-measure-LOC: 0.0005, precision-PER: 0.0000, recall-PER: 0.0000, f1-measure-PER: 0.0000, precision-ORG: 0.0239, recall-ORG: 0.0040, f1-measure-ORG: 0.0068, precision-MISC: 0.0142, recall-MISC: 0.0041, f1-measure-MISC: 0.0063, precision-overall: 0.0161, recall-overall: 0.0017, f1-measure-overall: 0.0031, loss: 1.1429 ||: 100%|██████████| 220/220 [01:11<00:00,  3.07it/s]\n",
      "precision-LOC: 0.0000, recall-LOC: 0.0000, f1-measure-LOC: 0.0000, precision-PER: 0.0000, recall-PER: 0.0000, f1-measure-PER: 0.0000, precision-ORG: 0.0000, recall-ORG: 0.0000, f1-measure-ORG: 0.0000, precision-MISC: 0.0000, recall-MISC: 0.0000, f1-measure-MISC: 0.0000, precision-overall: 0.0000, recall-overall: 0.0000, f1-measure-overall: 0.0000, loss: 0.8563 ||: 100%|██████████| 51/51 [00:04<00:00, 10.74it/s]\n",
      "precision-PER: 0.0000, recall-PER: 0.0000, f1-measure-PER: 0.0000, precision-LOC: 0.3105, recall-LOC: 0.0527, f1-measure-LOC: 0.0900, precision-ORG: 0.3664, recall-ORG: 0.0169, f1-measure-ORG: 0.0324, precision-MISC: 0.0000, recall-MISC: 0.0000, f1-measure-MISC: 0.0000, precision-overall: 0.3214, recall-overall: 0.0206, f1-measure-overall: 0.0386, loss: 0.7717 ||: 100%|██████████| 220/220 [01:14<00:00,  2.94it/s]\n",
      "precision-PER: 0.0000, recall-PER: 0.0000, f1-measure-PER: 0.0000, precision-LOC: 0.3342, recall-LOC: 0.1426, f1-measure-LOC: 0.1999, precision-ORG: 0.3883, recall-ORG: 0.0544, f1-measure-ORG: 0.0955, precision-MISC: 0.0000, recall-MISC: 0.0000, f1-measure-MISC: 0.0000, precision-overall: 0.3447, recall-overall: 0.0564, f1-measure-overall: 0.0969, loss: 0.7072 ||: 100%|██████████| 51/51 [00:03<00:00, 16.92it/s]\n",
      "precision-PER: 0.0000, recall-PER: 0.0000, f1-measure-PER: 0.0000, precision-LOC: 0.2776, recall-LOC: 0.1445, f1-measure-LOC: 0.1901, precision-ORG: 0.2608, recall-ORG: 0.0533, f1-measure-ORG: 0.0885, precision-MISC: 0.0000, recall-MISC: 0.0000, f1-measure-MISC: 0.0000, precision-overall: 0.2729, recall-overall: 0.0583, f1-measure-overall: 0.0960, loss: 0.6753 ||: 100%|██████████| 220/220 [00:55<00:00,  3.93it/s]\n",
      "precision-PER: 0.0000, recall-PER: 0.0000, f1-measure-PER: 0.0000, precision-LOC: 0.2908, recall-LOC: 0.2074, f1-measure-LOC: 0.2421, precision-ORG: 0.3968, recall-ORG: 0.0186, f1-measure-ORG: 0.0356, precision-MISC: 0.0000, recall-MISC: 0.0000, f1-measure-MISC: 0.0000, precision-overall: 0.2948, recall-overall: 0.0683, f1-measure-overall: 0.1109, loss: 0.6326 ||: 100%|██████████| 51/51 [00:03<00:00, 16.76it/s]\n",
      "precision-PER: 0.0471, recall-PER: 0.0012, f1-measure-PER: 0.0024, precision-LOC: 0.2976, recall-LOC: 0.2200, f1-measure-LOC: 0.2530, precision-ORG: 0.2110, recall-ORG: 0.0570, f1-measure-ORG: 0.0897, precision-MISC: 0.0000, recall-MISC: 0.0000, f1-measure-MISC: 0.0000, precision-overall: 0.2710, recall-overall: 0.0825, f1-measure-overall: 0.1265, loss: 0.6216 ||: 100%|██████████| 220/220 [00:56<00:00,  3.88it/s]\n",
      "precision-PER: 0.0871, recall-PER: 0.0261, f1-measure-PER: 0.0401, precision-LOC: 0.3401, recall-LOC: 0.2749, f1-measure-LOC: 0.3040, precision-ORG: 0.4571, recall-ORG: 0.0119, f1-measure-ORG: 0.0233, precision-MISC: 0.0000, recall-MISC: 0.0000, f1-measure-MISC: 0.0000, precision-overall: 0.2747, recall-overall: 0.0958, f1-measure-overall: 0.1420, loss: 0.5879 ||: 100%|██████████| 51/51 [00:02<00:00, 17.38it/s]\n",
      "precision-PER: 0.0541, recall-PER: 0.0067, f1-measure-PER: 0.0119, precision-LOC: 0.3306, recall-LOC: 0.2887, f1-measure-LOC: 0.3082, precision-ORG: 0.2183, recall-ORG: 0.0693, f1-measure-ORG: 0.1052, precision-MISC: 0.0000, recall-MISC: 0.0000, f1-measure-MISC: 0.0000, precision-overall: 0.2809, recall-overall: 0.1082, f1-measure-overall: 0.1562, loss: 0.5853 ||: 100%|██████████| 220/220 [00:56<00:00,  3.89it/s]\n",
      "precision-PER: 0.0588, recall-PER: 0.0005, f1-measure-PER: 0.0011, precision-LOC: 0.4595, recall-LOC: 0.2379, f1-measure-LOC: 0.3135, precision-ORG: 0.1800, recall-ORG: 0.1245, f1-measure-ORG: 0.1472, precision-MISC: 0.0000, recall-MISC: 0.0000, f1-measure-MISC: 0.0000, precision-overall: 0.3191, recall-overall: 0.1018, f1-measure-overall: 0.1544, loss: 0.5544 ||: 100%|██████████| 51/51 [00:02<00:00, 17.97it/s]\n",
      "precision-PER: 0.0656, recall-PER: 0.0123, f1-measure-PER: 0.0207, precision-ORG: 0.1989, recall-ORG: 0.1082, f1-measure-ORG: 0.1402, precision-MISC: 0.0000, recall-MISC: 0.0000, f1-measure-MISC: 0.0000, precision-LOC: 0.3476, recall-LOC: 0.3034, f1-measure-LOC: 0.3240, precision-overall: 0.2688, recall-overall: 0.1247, f1-measure-overall: 0.1704, loss: 0.5517 ||: 100%|██████████| 220/220 [00:55<00:00,  4.00it/s]\n",
      "precision-PER: 0.0794, recall-PER: 0.0136, f1-measure-PER: 0.0232, precision-LOC: 0.4275, recall-LOC: 0.3996, f1-measure-LOC: 0.4131, precision-ORG: 0.2572, recall-ORG: 0.0999, f1-measure-ORG: 0.1439, precision-MISC: 0.0000, recall-MISC: 0.0000, f1-measure-MISC: 0.0000, precision-overall: 0.3498, recall-overall: 0.1503, f1-measure-overall: 0.2102, loss: 0.5199 ||: 100%|██████████| 51/51 [00:03<00:00, 16.82it/s]\n",
      "precision-PER: 0.0659, recall-PER: 0.0189, f1-measure-PER: 0.0294, precision-ORG: 0.1945, recall-ORG: 0.1264, f1-measure-ORG: 0.1532, precision-MISC: 0.0000, recall-MISC: 0.0000, f1-measure-MISC: 0.0000, precision-LOC: 0.3580, recall-LOC: 0.3472, f1-measure-LOC: 0.3525, precision-overall: 0.2632, recall-overall: 0.1448, f1-measure-overall: 0.1868, loss: 0.5250 ||: 100%|██████████| 220/220 [00:58<00:00,  3.74it/s]\n",
      "precision-PER: 0.1033, recall-PER: 0.0461, f1-measure-PER: 0.0638, precision-LOC: 0.4626, recall-LOC: 0.3740, f1-measure-LOC: 0.4136, precision-ORG: 0.2458, recall-ORG: 0.1544, f1-measure-ORG: 0.1896, precision-MISC: 0.0000, recall-MISC: 0.0000, f1-measure-MISC: 0.0000, precision-overall: 0.3108, recall-overall: 0.1648, f1-measure-overall: 0.2154, loss: 0.4928 ||: 100%|██████████| 51/51 [00:03<00:00, 16.45it/s]\n",
      "precision-PER: 0.0927, recall-PER: 0.0470, f1-measure-PER: 0.0623, precision-LOC: 0.3701, recall-LOC: 0.3494, f1-measure-LOC: 0.3595, precision-ORG: 0.1945, recall-ORG: 0.1482, f1-measure-ORG: 0.1682, precision-MISC: 0.0000, recall-MISC: 0.0000, f1-measure-MISC: 0.0000, precision-overall: 0.2511, recall-overall: 0.1592, f1-measure-overall: 0.1949, loss: 0.4994 ||: 100%|██████████| 220/220 [00:57<00:00,  3.83it/s]\n",
      "precision-PER: 0.1391, recall-PER: 0.0890, f1-measure-PER: 0.1086, precision-LOC: 0.4264, recall-LOC: 0.4747, f1-measure-LOC: 0.4493, precision-ORG: 0.3361, recall-ORG: 0.0902, f1-measure-ORG: 0.1423, precision-MISC: 0.0000, recall-MISC: 0.0000, f1-measure-MISC: 0.0000, precision-overall: 0.3228, recall-overall: 0.1947, f1-measure-overall: 0.2429, loss: 0.4666 ||: 100%|██████████| 51/51 [00:02<00:00, 17.53it/s]\n",
      "precision-PER: 0.1075, recall-PER: 0.0800, f1-measure-PER: 0.0917, precision-ORG: 0.1986, recall-ORG: 0.1478, f1-measure-ORG: 0.1694, precision-MISC: 0.0000, recall-MISC: 0.0000, f1-measure-MISC: 0.0000, precision-LOC: 0.3869, recall-LOC: 0.3856, f1-measure-LOC: 0.3862, precision-overall: 0.2519, recall-overall: 0.1794, f1-measure-overall: 0.2095, loss: 0.4763 ||: 100%|██████████| 220/220 [00:57<00:00,  3.84it/s]\n",
      "precision-PER: 0.1209, recall-PER: 0.0934, f1-measure-PER: 0.1054, precision-LOC: 0.4605, recall-LOC: 0.4192, f1-measure-LOC: 0.4389, precision-ORG: 0.1792, recall-ORG: 0.2528, f1-measure-ORG: 0.2097, precision-MISC: 0.0000, recall-MISC: 0.0000, f1-measure-MISC: 0.0000, precision-overall: 0.2569, recall-overall: 0.2156, f1-measure-overall: 0.2344, loss: 0.4482 ||: 100%|██████████| 51/51 [00:03<00:00, 16.42it/s]\n",
      "precision-PER: 0.1328, recall-PER: 0.1247, f1-measure-PER: 0.1286, precision-LOC: 0.4071, recall-LOC: 0.3952, f1-measure-LOC: 0.4011, precision-ORG: 0.1856, recall-ORG: 0.1650, f1-measure-ORG: 0.1747, precision-MISC: 0.0000, recall-MISC: 0.0000, f1-measure-MISC: 0.0000, precision-overall: 0.2501, recall-overall: 0.1995, f1-measure-overall: 0.2219, loss: 0.4551 ||: 100%|██████████| 220/220 [00:58<00:00,  3.75it/s]\n"
     ]
    },
    {
     "name": "stderr",
     "output_type": "stream",
     "text": [
      "precision-PER: 0.1752, recall-PER: 0.1688, f1-measure-PER: 0.1720, precision-LOC: 0.4596, recall-LOC: 0.4948, f1-measure-LOC: 0.4765, precision-ORG: 0.2576, recall-ORG: 0.1767, f1-measure-ORG: 0.2096, precision-MISC: 0.0000, recall-MISC: 0.0000, f1-measure-MISC: 0.0000, precision-overall: 0.3118, recall-overall: 0.2452, f1-measure-overall: 0.2745, loss: 0.4222 ||: 100%|██████████| 51/51 [00:03<00:00, 14.21it/s]\n",
      "precision-PER: 0.1581, recall-PER: 0.1776, f1-measure-PER: 0.1672, precision-LOC: 0.4328, recall-LOC: 0.4144, f1-measure-LOC: 0.4234, precision-ORG: 0.1898, recall-ORG: 0.1713, f1-measure-ORG: 0.1801, precision-MISC: 0.0000, recall-MISC: 0.0000, f1-measure-MISC: 0.0000, precision-overall: 0.2613, recall-overall: 0.2219, f1-measure-overall: 0.2400, loss: 0.4359 ||: 100%|██████████| 220/220 [00:58<00:00,  3.78it/s]\n",
      "precision-PER: 0.2147, recall-PER: 0.2199, f1-measure-PER: 0.2173, precision-LOC: 0.4934, recall-LOC: 0.4682, f1-measure-LOC: 0.4804, precision-ORG: 0.2079, recall-ORG: 0.2289, f1-measure-ORG: 0.2179, precision-MISC: 0.0000, recall-MISC: 0.0000, f1-measure-MISC: 0.0000, precision-overall: 0.3079, recall-overall: 0.2646, f1-measure-overall: 0.2846, loss: 0.4040 ||: 100%|██████████| 51/51 [00:02<00:00, 18.95it/s]\n",
      "precision-PER: 0.1836, recall-PER: 0.2264, f1-measure-PER: 0.2027, precision-ORG: 0.2046, recall-ORG: 0.1908, f1-measure-ORG: 0.1975, precision-MISC: 0.0000, recall-MISC: 0.0000, f1-measure-MISC: 0.0000, precision-LOC: 0.4546, recall-LOC: 0.4375, f1-measure-LOC: 0.4459, precision-overall: 0.2786, recall-overall: 0.2478, f1-measure-overall: 0.2623, loss: 0.4188 ||: 100%|██████████| 220/220 [00:57<00:00,  3.82it/s]\n",
      "precision-PER: 0.2489, recall-PER: 0.3160, f1-measure-PER: 0.2785, precision-LOC: 0.5435, recall-LOC: 0.4698, f1-measure-LOC: 0.5039, precision-ORG: 0.2300, recall-ORG: 0.2267, f1-measure-ORG: 0.2283, precision-MISC: 0.0000, recall-MISC: 0.0000, f1-measure-MISC: 0.0000, precision-overall: 0.3333, recall-overall: 0.2943, f1-measure-overall: 0.3126, loss: 0.3855 ||: 100%|██████████| 51/51 [00:03<00:00, 14.41it/s]\n",
      "precision-PER: 0.2080, recall-PER: 0.2767, f1-measure-PER: 0.2375, precision-LOC: 0.4894, recall-LOC: 0.4535, f1-measure-LOC: 0.4708, precision-ORG: 0.2108, recall-ORG: 0.2131, f1-measure-ORG: 0.2120, precision-MISC: 0.0000, recall-MISC: 0.0000, f1-measure-MISC: 0.0000, precision-overall: 0.2942, recall-overall: 0.2728, f1-measure-overall: 0.2831, loss: 0.4042 ||: 100%|██████████| 220/220 [00:59<00:00,  3.72it/s]\n",
      "precision-PER: 0.2799, recall-PER: 0.3648, f1-measure-PER: 0.3168, precision-LOC: 0.4662, recall-LOC: 0.6162, f1-measure-LOC: 0.5308, precision-ORG: 0.2903, recall-ORG: 0.1290, f1-measure-ORG: 0.1786, precision-MISC: 0.0000, recall-MISC: 0.0000, f1-measure-MISC: 0.0000, precision-overall: 0.3639, recall-overall: 0.3327, f1-measure-overall: 0.3476, loss: 0.3704 ||: 100%|██████████| 51/51 [00:03<00:00, 14.72it/s]\n",
      "precision-PER: 0.2301, recall-PER: 0.3171, f1-measure-PER: 0.2667, precision-ORG: 0.2076, recall-ORG: 0.1968, f1-measure-ORG: 0.2021, precision-MISC: 0.0682, recall-MISC: 0.0009, f1-measure-MISC: 0.0017, precision-LOC: 0.4880, recall-LOC: 0.4885, f1-measure-LOC: 0.4883, precision-overall: 0.3065, recall-overall: 0.2906, f1-measure-overall: 0.2983, loss: 0.3897 ||: 100%|██████████| 220/220 [00:57<00:00,  3.80it/s]\n",
      "precision-PER: 0.2998, recall-PER: 0.3800, f1-measure-PER: 0.3352, precision-LOC: 0.5665, recall-LOC: 0.4986, f1-measure-LOC: 0.5304, precision-ORG: 0.2258, recall-ORG: 0.2975, f1-measure-ORG: 0.2568, precision-MISC: 0.0000, recall-MISC: 0.0000, f1-measure-MISC: 0.0000, precision-overall: 0.3518, recall-overall: 0.3391, f1-measure-overall: 0.3454, loss: 0.3587 ||: 100%|██████████| 51/51 [00:03<00:00, 15.03it/s]\n",
      "precision-PER: 0.2444, recall-PER: 0.3447, f1-measure-PER: 0.2860, precision-LOC: 0.5116, recall-LOC: 0.5017, f1-measure-LOC: 0.5066, precision-ORG: 0.2231, recall-ORG: 0.2221, f1-measure-ORG: 0.2226, precision-MISC: 0.0303, recall-MISC: 0.0006, f1-measure-MISC: 0.0011, precision-overall: 0.3204, recall-overall: 0.3091, f1-measure-overall: 0.3146, loss: 0.3787 ||: 100%|██████████| 220/220 [00:58<00:00,  3.78it/s]\n",
      "precision-PER: 0.3235, recall-PER: 0.4305, f1-measure-PER: 0.3694, precision-LOC: 0.5806, recall-LOC: 0.5079, f1-measure-LOC: 0.5418, precision-ORG: 0.2602, recall-ORG: 0.2476, f1-measure-ORG: 0.2537, precision-MISC: 0.0000, recall-MISC: 0.0000, f1-measure-MISC: 0.0000, precision-overall: 0.3847, recall-overall: 0.3463, f1-measure-overall: 0.3645, loss: 0.3464 ||: 100%|██████████| 51/51 [00:02<00:00, 17.07it/s]\n",
      "precision-PER: 0.2627, recall-PER: 0.3720, f1-measure-PER: 0.3079, precision-LOC: 0.5195, recall-LOC: 0.5064, f1-measure-LOC: 0.5129, precision-ORG: 0.2292, recall-ORG: 0.2352, f1-measure-ORG: 0.2322, precision-MISC: 0.0725, recall-MISC: 0.0029, f1-measure-MISC: 0.0056, precision-overall: 0.3300, recall-overall: 0.3221, f1-measure-overall: 0.3260, loss: 0.3679 ||: 100%|██████████| 220/220 [00:57<00:00,  3.79it/s]\n",
      "precision-PER: 0.3506, recall-PER: 0.5261, f1-measure-PER: 0.4208, precision-LOC: 0.5369, recall-LOC: 0.5901, f1-measure-LOC: 0.5622, precision-ORG: 0.3138, recall-ORG: 0.1834, f1-measure-ORG: 0.2315, precision-MISC: 0.0408, recall-MISC: 0.0022, f1-measure-MISC: 0.0041, precision-overall: 0.4097, recall-overall: 0.3872, f1-measure-overall: 0.3982, loss: 0.3351 ||: 100%|██████████| 51/51 [00:03<00:00, 15.18it/s]\n",
      "precision-PER: 0.2791, recall-PER: 0.3929, f1-measure-PER: 0.3263, precision-LOC: 0.5347, recall-LOC: 0.5357, f1-measure-LOC: 0.5352, precision-ORG: 0.2367, recall-ORG: 0.2436, f1-measure-ORG: 0.2401, precision-MISC: 0.0766, recall-MISC: 0.0052, f1-measure-MISC: 0.0098, precision-overall: 0.3440, recall-overall: 0.3394, f1-measure-overall: 0.3417, loss: 0.3572 ||: 100%|██████████| 220/220 [00:57<00:00,  3.81it/s]\n",
      "precision-PER: 0.3663, recall-PER: 0.5206, f1-measure-PER: 0.4300, precision-ORG: 0.3038, recall-ORG: 0.2453, f1-measure-ORG: 0.2715, precision-MISC: 0.0345, recall-MISC: 0.0022, f1-measure-MISC: 0.0041, precision-LOC: 0.5382, recall-LOC: 0.5906, f1-measure-LOC: 0.5632, precision-overall: 0.4113, recall-overall: 0.3997, f1-measure-overall: 0.4054, loss: 0.3279 ||: 100%|██████████| 51/51 [00:02<00:00, 17.06it/s]\n",
      "precision-PER: 0.2944, recall-PER: 0.4238, f1-measure-PER: 0.3475, precision-ORG: 0.2407, recall-ORG: 0.2473, f1-measure-ORG: 0.2439, precision-MISC: 0.0873, recall-MISC: 0.0070, f1-measure-MISC: 0.0129, precision-LOC: 0.5373, recall-LOC: 0.5382, f1-measure-LOC: 0.5377, precision-overall: 0.3513, recall-overall: 0.3501, f1-measure-overall: 0.3507, loss: 0.3524 ||: 100%|██████████| 220/220 [01:02<00:00,  3.51it/s]\n",
      "precision-PER: 0.3305, recall-PER: 0.3366, f1-measure-PER: 0.3335, precision-ORG: 0.2248, recall-ORG: 0.3490, f1-measure-ORG: 0.2734, precision-MISC: 0.1111, recall-MISC: 0.0098, f1-measure-MISC: 0.0179, precision-LOC: 0.5930, recall-LOC: 0.5504, f1-measure-LOC: 0.5709, precision-overall: 0.3670, recall-overall: 0.3548, f1-measure-overall: 0.3608, loss: 0.3262 ||: 100%|██████████| 51/51 [00:03<00:00, 13.73it/s]\n",
      "precision-PER: 0.2985, recall-PER: 0.4170, f1-measure-PER: 0.3479, precision-ORG: 0.2311, recall-ORG: 0.2628, f1-measure-ORG: 0.2459, precision-MISC: 0.0808, recall-MISC: 0.0084, f1-measure-MISC: 0.0153, precision-LOC: 0.5458, recall-LOC: 0.5402, f1-measure-LOC: 0.5430, precision-overall: 0.3482, recall-overall: 0.3532, f1-measure-overall: 0.3507, loss: 0.3436 ||: 100%|██████████| 220/220 [01:01<00:00,  3.58it/s]\n",
      "precision-PER: 0.3818, recall-PER: 0.5613, f1-measure-PER: 0.4545, precision-ORG: 0.3091, recall-ORG: 0.3110, f1-measure-ORG: 0.3100, precision-MISC: 0.1030, recall-MISC: 0.0184, f1-measure-MISC: 0.0313, precision-LOC: 0.6008, recall-LOC: 0.5465, f1-measure-LOC: 0.5724, precision-overall: 0.4195, recall-overall: 0.4160, f1-measure-overall: 0.4177, loss: 0.3146 ||: 100%|██████████| 51/51 [00:03<00:00, 15.35it/s]\n"
     ]
    },
    {
     "name": "stderr",
     "output_type": "stream",
     "text": [
      "precision-PER: 0.3117, recall-PER: 0.4427, f1-measure-PER: 0.3658, precision-LOC: 0.5472, recall-LOC: 0.5528, f1-measure-LOC: 0.5500, precision-ORG: 0.2516, recall-ORG: 0.2754, f1-measure-ORG: 0.2630, precision-MISC: 0.1006, recall-MISC: 0.0140, f1-measure-MISC: 0.0245, precision-overall: 0.3610, recall-overall: 0.3684, f1-measure-overall: 0.3647, loss: 0.3387 ||: 100%|██████████| 220/220 [00:58<00:00,  3.77it/s]\n",
      "precision-PER: 0.3916, recall-PER: 0.5011, f1-measure-PER: 0.4396, precision-ORG: 0.2714, recall-ORG: 0.3565, f1-measure-ORG: 0.3082, precision-MISC: 0.1312, recall-MISC: 0.0228, f1-measure-MISC: 0.0388, precision-LOC: 0.6195, recall-LOC: 0.5389, f1-measure-LOC: 0.5764, precision-overall: 0.4105, recall-overall: 0.4059, f1-measure-overall: 0.4082, loss: 0.3099 ||: 100%|██████████| 51/51 [00:03<00:00, 16.12it/s]\n",
      "precision-PER: 0.3179, recall-PER: 0.4476, f1-measure-PER: 0.3718, precision-LOC: 0.5533, recall-LOC: 0.5555, f1-measure-LOC: 0.5544, precision-ORG: 0.2625, recall-ORG: 0.2889, f1-measure-ORG: 0.2751, precision-MISC: 0.1224, recall-MISC: 0.0192, f1-measure-MISC: 0.0332, precision-overall: 0.3679, recall-overall: 0.3750, f1-measure-overall: 0.3714, loss: 0.3316 ||: 100%|██████████| 220/220 [00:57<00:00,  3.83it/s]\n",
      "precision-PER: 0.4068, recall-PER: 0.5320, f1-measure-PER: 0.4611, precision-ORG: 0.2942, recall-ORG: 0.3460, f1-measure-ORG: 0.3180, precision-MISC: 0.1593, recall-MISC: 0.0390, f1-measure-MISC: 0.0627, precision-LOC: 0.6120, recall-LOC: 0.5651, f1-measure-LOC: 0.5876, precision-overall: 0.4262, recall-overall: 0.4238, f1-measure-overall: 0.4250, loss: 0.3037 ||: 100%|██████████| 51/51 [00:03<00:00, 16.30it/s]\n",
      "precision-PER: 0.3326, recall-PER: 0.4703, f1-measure-PER: 0.3896, precision-LOC: 0.5629, recall-LOC: 0.5657, f1-measure-LOC: 0.5643, precision-ORG: 0.2611, recall-ORG: 0.2830, f1-measure-ORG: 0.2716, precision-MISC: 0.1364, recall-MISC: 0.0271, f1-measure-MISC: 0.0451, precision-overall: 0.3754, recall-overall: 0.3841, f1-measure-overall: 0.3797, loss: 0.3260 ||: 100%|██████████| 220/220 [00:57<00:00,  3.85it/s]\n",
      "precision-PER: 0.3849, recall-PER: 0.4794, f1-measure-PER: 0.4270, precision-ORG: 0.2475, recall-ORG: 0.4116, f1-measure-ORG: 0.3092, precision-MISC: 0.1295, recall-MISC: 0.0195, f1-measure-MISC: 0.0339, precision-LOC: 0.6134, recall-LOC: 0.5580, f1-measure-LOC: 0.5844, precision-overall: 0.3912, recall-overall: 0.4170, f1-measure-overall: 0.4037, loss: 0.3015 ||: 100%|██████████| 51/51 [00:02<00:00, 18.10it/s]\n",
      "precision-PER: 0.3447, recall-PER: 0.4820, f1-measure-PER: 0.4019, precision-ORG: 0.2650, recall-ORG: 0.2943, f1-measure-ORG: 0.2788, precision-MISC: 0.1511, recall-MISC: 0.0291, f1-measure-MISC: 0.0488, precision-LOC: 0.5623, recall-LOC: 0.5772, f1-measure-LOC: 0.5696, precision-overall: 0.3821, recall-overall: 0.3941, f1-measure-overall: 0.3880, loss: 0.3196 ||: 100%|██████████| 220/220 [00:55<00:00,  3.95it/s]\n",
      "precision-PER: 0.3986, recall-PER: 0.4473, f1-measure-PER: 0.4216, precision-ORG: 0.2623, recall-ORG: 0.3617, f1-measure-ORG: 0.3041, precision-MISC: 0.1566, recall-MISC: 0.0336, f1-measure-MISC: 0.0554, precision-LOC: 0.5609, recall-LOC: 0.6391, f1-measure-LOC: 0.5975, precision-overall: 0.4050, recall-overall: 0.4231, f1-measure-overall: 0.4139, loss: 0.2963 ||: 100%|██████████| 51/51 [00:03<00:00, 16.96it/s]\n",
      "precision-PER: 0.3509, recall-PER: 0.4830, f1-measure-PER: 0.4065, precision-ORG: 0.2626, recall-ORG: 0.3026, f1-measure-ORG: 0.2812, precision-MISC: 0.1884, recall-MISC: 0.0378, f1-measure-MISC: 0.0630, precision-LOC: 0.5567, recall-LOC: 0.5690, f1-measure-LOC: 0.5628, precision-overall: 0.3816, recall-overall: 0.3955, f1-measure-overall: 0.3884, loss: 0.3151 ||: 100%|██████████| 220/220 [00:55<00:00,  3.94it/s]\n",
      "precision-PER: 0.4313, recall-PER: 0.5244, f1-measure-PER: 0.4733, precision-ORG: 0.3010, recall-ORG: 0.3721, f1-measure-ORG: 0.3328, precision-MISC: 0.2670, recall-MISC: 0.1106, f1-measure-MISC: 0.1564, precision-LOC: 0.6151, recall-LOC: 0.5672, f1-measure-LOC: 0.5902, precision-overall: 0.4367, recall-overall: 0.4391, f1-measure-overall: 0.4379, loss: 0.2895 ||: 100%|██████████| 51/51 [00:03<00:00, 16.88it/s]\n",
      "precision-PER: 0.3565, recall-PER: 0.4982, f1-measure-PER: 0.4156, precision-LOC: 0.5627, recall-LOC: 0.5748, f1-measure-LOC: 0.5687, precision-ORG: 0.2812, recall-ORG: 0.3162, f1-measure-ORG: 0.2977, precision-MISC: 0.2059, recall-MISC: 0.0506, f1-measure-MISC: 0.0813, precision-overall: 0.3909, recall-overall: 0.4070, f1-measure-overall: 0.3988, loss: 0.3108 ||: 100%|██████████| 220/220 [00:56<00:00,  3.93it/s]\n",
      "precision-PER: 0.4407, recall-PER: 0.5451, f1-measure-PER: 0.4874, precision-ORG: 0.3170, recall-ORG: 0.3609, f1-measure-ORG: 0.3375, precision-MISC: 0.2568, recall-MISC: 0.0922, f1-measure-MISC: 0.1357, precision-LOC: 0.5967, recall-LOC: 0.6130, f1-measure-LOC: 0.6047, precision-overall: 0.4481, recall-overall: 0.4542, f1-measure-overall: 0.4511, loss: 0.2841 ||: 100%|██████████| 51/51 [00:03<00:00, 16.83it/s]\n",
      "precision-PER: 0.3634, recall-PER: 0.5044, f1-measure-PER: 0.4224, precision-LOC: 0.5679, recall-LOC: 0.5836, f1-measure-LOC: 0.5756, precision-ORG: 0.2813, recall-ORG: 0.3159, f1-measure-ORG: 0.2976, precision-MISC: 0.2282, recall-MISC: 0.0564, f1-measure-MISC: 0.0905, precision-overall: 0.3962, recall-overall: 0.4122, f1-measure-overall: 0.4041, loss: 0.3054 ||: 100%|██████████| 220/220 [00:55<00:00,  3.99it/s]\n",
      "precision-PER: 0.4466, recall-PER: 0.5907, f1-measure-PER: 0.5086, precision-ORG: 0.3075, recall-ORG: 0.3937, f1-measure-ORG: 0.3453, precision-MISC: 0.2891, recall-MISC: 0.1703, f1-measure-MISC: 0.2143, precision-LOC: 0.6288, recall-LOC: 0.5580, f1-measure-LOC: 0.5913, precision-overall: 0.4423, recall-overall: 0.4709, f1-measure-overall: 0.4561, loss: 0.2805 ||: 100%|██████████| 51/51 [00:02<00:00, 17.55it/s]\n",
      "precision-PER: 0.3687, recall-PER: 0.5071, f1-measure-PER: 0.4269, precision-LOC: 0.5774, recall-LOC: 0.5924, f1-measure-LOC: 0.5848, precision-ORG: 0.2844, recall-ORG: 0.3265, f1-measure-ORG: 0.3040, precision-MISC: 0.2554, recall-MISC: 0.0832, f1-measure-MISC: 0.1255, precision-overall: 0.4006, recall-overall: 0.4224, f1-measure-overall: 0.4112, loss: 0.3001 ||: 100%|██████████| 220/220 [00:55<00:00,  3.99it/s]\n",
      "precision-PER: 0.4517, recall-PER: 0.5337, f1-measure-PER: 0.4893, precision-ORG: 0.3067, recall-ORG: 0.3743, f1-measure-ORG: 0.3371, precision-MISC: 0.2258, recall-MISC: 0.0607, f1-measure-MISC: 0.0957, precision-LOC: 0.5694, recall-LOC: 0.6478, f1-measure-LOC: 0.6061, precision-overall: 0.4440, recall-overall: 0.4596, f1-measure-overall: 0.4517, loss: 0.2764 ||: 100%|██████████| 51/51 [00:02<00:00, 17.22it/s]\n",
      "precision-PER: 0.3853, recall-PER: 0.5335, f1-measure-PER: 0.4474, precision-ORG: 0.2915, recall-ORG: 0.3324, f1-measure-ORG: 0.3106, precision-MISC: 0.2554, recall-MISC: 0.0724, f1-measure-MISC: 0.1128, precision-LOC: 0.5711, recall-LOC: 0.5937, f1-measure-LOC: 0.5822, precision-overall: 0.4086, recall-overall: 0.4302, f1-measure-overall: 0.4191, loss: 0.2970 ||: 100%|██████████| 220/220 [00:55<00:00,  3.95it/s]\n",
      "precision-PER: 0.4422, recall-PER: 0.4674, f1-measure-PER: 0.4545, precision-ORG: 0.2528, recall-ORG: 0.4847, f1-measure-ORG: 0.3323, precision-MISC: 0.3381, recall-MISC: 0.1540, f1-measure-MISC: 0.2116, precision-LOC: 0.6392, recall-LOC: 0.5536, f1-measure-LOC: 0.5933, precision-overall: 0.4089, recall-overall: 0.4493, f1-measure-overall: 0.4282, loss: 0.2752 ||: 100%|██████████| 51/51 [00:03<00:00, 16.80it/s]\n",
      "precision-LOC: 0.5730, recall-LOC: 0.5892, f1-measure-LOC: 0.5810, precision-PER: 0.3892, recall-PER: 0.5265, f1-measure-PER: 0.4476, precision-ORG: 0.2850, recall-ORG: 0.3393, f1-measure-ORG: 0.3098, precision-MISC: 0.2697, recall-MISC: 0.0928, f1-measure-MISC: 0.1381, precision-overall: 0.4062, recall-overall: 0.4318, f1-measure-overall: 0.4186, loss: 0.2919 ||: 100%|██████████| 220/220 [00:55<00:00,  3.99it/s]\n"
     ]
    },
    {
     "name": "stderr",
     "output_type": "stream",
     "text": [
      "precision-PER: 0.4671, recall-PER: 0.5282, f1-measure-PER: 0.4958, precision-ORG: 0.2752, recall-ORG: 0.4609, f1-measure-ORG: 0.3446, precision-MISC: 0.3385, recall-MISC: 0.1432, f1-measure-MISC: 0.2012, precision-LOC: 0.6361, recall-LOC: 0.5623, f1-measure-LOC: 0.5969, precision-overall: 0.4345, recall-overall: 0.4638, f1-measure-overall: 0.4487, loss: 0.2695 ||: 100%|██████████| 51/51 [00:02<00:00, 17.68it/s]\n",
      "precision-PER: 0.3928, recall-PER: 0.5358, f1-measure-PER: 0.4533, precision-LOC: 0.5821, recall-LOC: 0.5994, f1-measure-LOC: 0.5906, precision-ORG: 0.2941, recall-ORG: 0.3387, f1-measure-ORG: 0.3148, precision-MISC: 0.2723, recall-MISC: 0.1056, f1-measure-MISC: 0.1522, precision-overall: 0.4133, recall-overall: 0.4392, f1-measure-overall: 0.4259, loss: 0.2882 ||: 100%|██████████| 220/220 [00:54<00:00,  4.07it/s]\n",
      "precision-PER: 0.4682, recall-PER: 0.5478, f1-measure-PER: 0.5049, precision-ORG: 0.2652, recall-ORG: 0.4832, f1-measure-ORG: 0.3425, precision-MISC: 0.3251, recall-MISC: 0.1573, f1-measure-MISC: 0.2120, precision-LOC: 0.6361, recall-LOC: 0.5634, f1-measure-LOC: 0.5976, precision-overall: 0.4253, recall-overall: 0.4774, f1-measure-overall: 0.4499, loss: 0.2674 ||: 100%|██████████| 51/51 [00:02<00:00, 17.05it/s]\n",
      "precision-PER: 0.4112, recall-PER: 0.5555, f1-measure-PER: 0.4726, precision-LOC: 0.5763, recall-LOC: 0.6101, f1-measure-LOC: 0.5927, precision-ORG: 0.3121, recall-ORG: 0.3487, f1-measure-ORG: 0.3294, precision-MISC: 0.2918, recall-MISC: 0.1102, f1-measure-MISC: 0.1600, precision-overall: 0.4270, recall-overall: 0.4513, f1-measure-overall: 0.4388, loss: 0.2850 ||: 100%|██████████| 220/220 [00:55<00:00,  3.99it/s]\n",
      "precision-PER: 0.4512, recall-PER: 0.3887, f1-measure-PER: 0.4176, precision-ORG: 0.2299, recall-ORG: 0.5600, f1-measure-ORG: 0.3260, precision-MISC: 0.3750, recall-MISC: 0.1269, f1-measure-MISC: 0.1896, precision-LOC: 0.6866, recall-LOC: 0.5057, f1-measure-LOC: 0.5824, precision-overall: 0.3855, recall-overall: 0.4229, f1-measure-overall: 0.4034, loss: 0.2711 ||: 100%|██████████| 51/51 [00:03<00:00, 16.99it/s]\n",
      "precision-PER: 0.4134, recall-PER: 0.5445, f1-measure-PER: 0.4700, precision-ORG: 0.3055, recall-ORG: 0.3645, f1-measure-ORG: 0.3324, precision-MISC: 0.3054, recall-MISC: 0.1210, f1-measure-MISC: 0.1733, precision-LOC: 0.5864, recall-LOC: 0.6095, f1-measure-LOC: 0.5977, precision-overall: 0.4263, recall-overall: 0.4539, f1-measure-overall: 0.4397, loss: 0.2804 ||: 100%|██████████| 220/220 [00:55<00:00,  3.99it/s]\n",
      "precision-PER: 0.5012, recall-PER: 0.5765, f1-measure-PER: 0.5362, precision-ORG: 0.3216, recall-ORG: 0.4072, f1-measure-ORG: 0.3593, precision-MISC: 0.3352, recall-MISC: 0.1312, f1-measure-MISC: 0.1886, precision-LOC: 0.6190, recall-LOC: 0.6086, f1-measure-LOC: 0.6138, precision-overall: 0.4758, recall-overall: 0.4791, f1-measure-overall: 0.4774, loss: 0.2586 ||: 100%|██████████| 51/51 [00:02<00:00, 17.21it/s]\n",
      "precision-PER: 0.4169, recall-PER: 0.5521, f1-measure-PER: 0.4751, precision-LOC: 0.5839, recall-LOC: 0.6025, f1-measure-LOC: 0.5931, precision-ORG: 0.3046, recall-ORG: 0.3639, f1-measure-ORG: 0.3316, precision-MISC: 0.3271, recall-MISC: 0.1364, f1-measure-MISC: 0.1925, precision-overall: 0.4270, recall-overall: 0.4560, f1-measure-overall: 0.4410, loss: 0.2776 ||: 100%|██████████| 220/220 [00:54<00:00,  4.00it/s]\n",
      "precision-PER: 0.5002, recall-PER: 0.6238, f1-measure-PER: 0.5552, precision-ORG: 0.3863, recall-ORG: 0.3535, f1-measure-ORG: 0.3692, precision-MISC: 0.3236, recall-MISC: 0.1562, f1-measure-MISC: 0.2107, precision-LOC: 0.5555, recall-LOC: 0.6815, f1-measure-LOC: 0.6121, precision-overall: 0.4851, recall-overall: 0.5081, f1-measure-overall: 0.4963, loss: 0.2499 ||: 100%|██████████| 51/51 [00:03<00:00, 16.99it/s]\n",
      "precision-PER: 0.4324, recall-PER: 0.5718, f1-measure-PER: 0.4924, precision-LOC: 0.5868, recall-LOC: 0.6172, f1-measure-LOC: 0.6016, precision-ORG: 0.3156, recall-ORG: 0.3658, f1-measure-ORG: 0.3389, precision-MISC: 0.3314, recall-MISC: 0.1483, f1-measure-MISC: 0.2049, precision-overall: 0.4383, recall-overall: 0.4682, f1-measure-overall: 0.4528, loss: 0.2726 ||: 100%|██████████| 220/220 [00:54<00:00,  4.02it/s]\n",
      "precision-PER: 0.5115, recall-PER: 0.6021, f1-measure-PER: 0.5531, precision-ORG: 0.3403, recall-ORG: 0.4027, f1-measure-ORG: 0.3689, precision-MISC: 0.3399, recall-MISC: 0.1692, f1-measure-MISC: 0.2259, precision-LOC: 0.5794, recall-LOC: 0.6494, f1-measure-LOC: 0.6124, precision-overall: 0.4779, recall-overall: 0.5045, f1-measure-overall: 0.4909, loss: 0.2477 ||: 100%|██████████| 51/51 [00:02<00:00, 17.62it/s]\n",
      "precision-PER: 0.4358, recall-PER: 0.5685, f1-measure-PER: 0.4934, precision-ORG: 0.3210, recall-ORG: 0.3765, f1-measure-ORG: 0.3465, precision-MISC: 0.3540, recall-MISC: 0.1661, f1-measure-MISC: 0.2261, precision-LOC: 0.5917, recall-LOC: 0.6218, f1-measure-LOC: 0.6064, precision-overall: 0.4432, recall-overall: 0.4742, f1-measure-overall: 0.4582, loss: 0.2689 ||: 100%|██████████| 220/220 [00:55<00:00,  3.99it/s]\n",
      "precision-PER: 0.5198, recall-PER: 0.5836, f1-measure-PER: 0.5499, precision-ORG: 0.3360, recall-ORG: 0.4087, f1-measure-ORG: 0.3688, precision-MISC: 0.3626, recall-MISC: 0.1703, f1-measure-MISC: 0.2317, precision-LOC: 0.5831, recall-LOC: 0.6587, f1-measure-LOC: 0.6186, precision-overall: 0.4817, recall-overall: 0.5032, f1-measure-overall: 0.4922, loss: 0.2459 ||: 100%|██████████| 51/51 [00:02<00:00, 17.91it/s]\n",
      "precision-LOC: 0.5888, recall-LOC: 0.6245, f1-measure-LOC: 0.6061, precision-PER: 0.4461, recall-PER: 0.5745, f1-measure-PER: 0.5022, precision-ORG: 0.3256, recall-ORG: 0.3825, f1-measure-ORG: 0.3518, precision-MISC: 0.3632, recall-MISC: 0.1745, f1-measure-MISC: 0.2358, precision-overall: 0.4480, recall-overall: 0.4796, f1-measure-overall: 0.4633, loss: 0.2666 ||: 100%|██████████| 220/220 [00:53<00:00,  4.10it/s]\n",
      "precision-LOC: 0.5841, recall-LOC: 0.6522, f1-measure-LOC: 0.6163, precision-PER: 0.5192, recall-PER: 0.6021, f1-measure-PER: 0.5576, precision-ORG: 0.3163, recall-ORG: 0.4392, f1-measure-ORG: 0.3678, precision-MISC: 0.3727, recall-MISC: 0.1746, f1-measure-MISC: 0.2378, precision-overall: 0.4717, recall-overall: 0.5145, f1-measure-overall: 0.4922, loss: 0.2418 ||: 100%|██████████| 51/51 [00:02<00:00, 18.27it/s]\n",
      "precision-PER: 0.4510, recall-PER: 0.5779, f1-measure-PER: 0.5066, precision-LOC: 0.5936, recall-LOC: 0.6273, f1-measure-LOC: 0.6100, precision-ORG: 0.3265, recall-ORG: 0.3827, f1-measure-ORG: 0.3524, precision-MISC: 0.3598, recall-MISC: 0.1885, f1-measure-MISC: 0.2474, precision-overall: 0.4506, recall-overall: 0.4834, f1-measure-overall: 0.4664, loss: 0.2618 ||: 100%|██████████| 220/220 [00:53<00:00,  4.12it/s]\n",
      "precision-PER: 0.5172, recall-PER: 0.6439, f1-measure-PER: 0.5736, precision-ORG: 0.3538, recall-ORG: 0.4206, f1-measure-ORG: 0.3843, precision-MISC: 0.4137, recall-MISC: 0.2419, f1-measure-MISC: 0.3053, precision-LOC: 0.6305, recall-LOC: 0.6233, f1-measure-LOC: 0.6269, precision-overall: 0.4995, recall-overall: 0.5247, f1-measure-overall: 0.5118, loss: 0.2371 ||: 100%|██████████| 51/51 [00:02<00:00, 17.00it/s]\n",
      "precision-LOC: 0.5961, recall-LOC: 0.6277, f1-measure-LOC: 0.6115, precision-PER: 0.4572, recall-PER: 0.5814, f1-measure-PER: 0.5119, precision-ORG: 0.3318, recall-ORG: 0.3920, f1-measure-ORG: 0.3594, precision-MISC: 0.3777, recall-MISC: 0.2004, f1-measure-MISC: 0.2619, precision-overall: 0.4557, recall-overall: 0.4888, f1-measure-overall: 0.4717, loss: 0.2587 ||: 100%|██████████| 220/220 [00:53<00:00,  4.14it/s]\n",
      "precision-PER: 0.5151, recall-PER: 0.6770, f1-measure-PER: 0.5850, precision-ORG: 0.3724, recall-ORG: 0.4101, f1-measure-ORG: 0.3903, precision-MISC: 0.4177, recall-MISC: 0.2863, f1-measure-MISC: 0.3398, precision-LOC: 0.6687, recall-LOC: 0.6010, f1-measure-LOC: 0.6330, precision-overall: 0.5121, recall-overall: 0.5326, f1-measure-overall: 0.5221, loss: 0.2342 ||: 100%|██████████| 51/51 [00:02<00:00, 17.75it/s]\n"
     ]
    },
    {
     "name": "stderr",
     "output_type": "stream",
     "text": [
      "precision-PER: 0.4694, recall-PER: 0.5982, f1-measure-PER: 0.5260, precision-ORG: 0.3453, recall-ORG: 0.3961, f1-measure-ORG: 0.3690, precision-MISC: 0.3859, recall-MISC: 0.2184, f1-measure-MISC: 0.2790, precision-LOC: 0.5984, recall-LOC: 0.6382, f1-measure-LOC: 0.6177, precision-overall: 0.4662, recall-overall: 0.5004, f1-measure-overall: 0.4827, loss: 0.2534 ||: 100%|██████████| 220/220 [00:53<00:00,  4.15it/s]\n",
      "precision-PER: 0.5440, recall-PER: 0.5505, f1-measure-PER: 0.5472, precision-ORG: 0.2854, recall-ORG: 0.5444, f1-measure-ORG: 0.3745, precision-MISC: 0.4563, recall-MISC: 0.3113, f1-measure-MISC: 0.3701, precision-LOC: 0.7037, recall-LOC: 0.5482, f1-measure-LOC: 0.6163, precision-overall: 0.4687, recall-overall: 0.5113, f1-measure-overall: 0.4891, loss: 0.2379 ||: 100%|██████████| 51/51 [00:02<00:00, 17.67it/s]\n",
      "precision-PER: 0.4790, recall-PER: 0.5952, f1-measure-PER: 0.5308, precision-ORG: 0.3442, recall-ORG: 0.4102, f1-measure-ORG: 0.3743, precision-MISC: 0.3851, recall-MISC: 0.2336, f1-measure-MISC: 0.2908, precision-LOC: 0.6033, recall-LOC: 0.6333, f1-measure-LOC: 0.6179, precision-overall: 0.4679, recall-overall: 0.5041, f1-measure-overall: 0.4853, loss: 0.2512 ||: 100%|██████████| 220/220 [00:52<00:00,  4.19it/s]\n",
      "precision-PER: 0.5373, recall-PER: 0.6488, f1-measure-PER: 0.5878, precision-ORG: 0.3443, recall-ORG: 0.4512, f1-measure-ORG: 0.3906, precision-MISC: 0.4343, recall-MISC: 0.3297, f1-measure-MISC: 0.3748, precision-LOC: 0.6771, recall-LOC: 0.5983, f1-measure-LOC: 0.6353, precision-overall: 0.5081, recall-overall: 0.5390, f1-measure-overall: 0.5231, loss: 0.2285 ||: 100%|██████████| 51/51 [00:02<00:00, 18.08it/s]\n",
      "precision-PER: 0.4815, recall-PER: 0.6070, f1-measure-PER: 0.5370, precision-LOC: 0.6032, recall-LOC: 0.6382, f1-measure-LOC: 0.6202, precision-ORG: 0.3527, recall-ORG: 0.4091, f1-measure-ORG: 0.3788, precision-MISC: 0.3992, recall-MISC: 0.2385, f1-measure-MISC: 0.2986, precision-overall: 0.4738, recall-overall: 0.5093, f1-measure-overall: 0.4909, loss: 0.2479 ||: 100%|██████████| 220/220 [00:53<00:00,  4.12it/s]\n",
      "precision-PER: 0.5372, recall-PER: 0.6699, f1-measure-PER: 0.5963, precision-ORG: 0.3555, recall-ORG: 0.4348, f1-measure-ORG: 0.3911, precision-MISC: 0.4079, recall-MISC: 0.3796, f1-measure-MISC: 0.3933, precision-LOC: 0.6742, recall-LOC: 0.6004, f1-measure-LOC: 0.6352, precision-overall: 0.5085, recall-overall: 0.5503, f1-measure-overall: 0.5286, loss: 0.2261 ||: 100%|██████████| 51/51 [00:02<00:00, 18.38it/s]\n",
      "precision-PER: 0.4976, recall-PER: 0.6042, f1-measure-PER: 0.5457, precision-ORG: 0.3624, recall-ORG: 0.4192, f1-measure-ORG: 0.3888, precision-MISC: 0.4020, recall-MISC: 0.2589, f1-measure-MISC: 0.3149, precision-LOC: 0.6125, recall-LOC: 0.6511, f1-measure-LOC: 0.6312, precision-overall: 0.4845, recall-overall: 0.5182, f1-measure-overall: 0.5008, loss: 0.2439 ||: 100%|██████████| 220/220 [00:53<00:00,  4.15it/s]\n",
      "precision-PER: 0.5581, recall-PER: 0.6542, f1-measure-PER: 0.6023, precision-ORG: 0.3610, recall-ORG: 0.4340, f1-measure-ORG: 0.3942, precision-MISC: 0.4243, recall-MISC: 0.3254, f1-measure-MISC: 0.3683, precision-LOC: 0.6399, recall-LOC: 0.6424, f1-measure-LOC: 0.6411, precision-overall: 0.5168, recall-overall: 0.5498, f1-measure-overall: 0.5328, loss: 0.2223 ||: 100%|██████████| 51/51 [00:02<00:00, 18.98it/s]\n",
      "precision-PER: 0.5011, recall-PER: 0.6091, f1-measure-PER: 0.5498, precision-LOC: 0.6089, recall-LOC: 0.6447, f1-measure-LOC: 0.6263, precision-ORG: 0.3626, recall-ORG: 0.4279, f1-measure-ORG: 0.3926, precision-MISC: 0.4142, recall-MISC: 0.2731, f1-measure-MISC: 0.3292, precision-overall: 0.4847, recall-overall: 0.5220, f1-measure-overall: 0.5027, loss: 0.2413 ||: 100%|██████████| 220/220 [00:53<00:00,  4.08it/s]\n",
      "precision-PER: 0.5621, recall-PER: 0.6466, f1-measure-PER: 0.6014, precision-ORG: 0.3523, recall-ORG: 0.4377, f1-measure-ORG: 0.3904, precision-MISC: 0.4395, recall-MISC: 0.2874, f1-measure-MISC: 0.3475, precision-LOC: 0.6147, recall-LOC: 0.6739, f1-measure-LOC: 0.6429, precision-overall: 0.5125, recall-overall: 0.5522, f1-measure-overall: 0.5316, loss: 0.2184 ||: 100%|██████████| 51/51 [00:03<00:00, 14.86it/s]\n",
      "precision-PER: 0.5052, recall-PER: 0.6088, f1-measure-PER: 0.5522, precision-LOC: 0.6200, recall-LOC: 0.6570, f1-measure-LOC: 0.6380, precision-ORG: 0.3650, recall-ORG: 0.4297, f1-measure-ORG: 0.3947, precision-MISC: 0.4222, recall-MISC: 0.2874, f1-measure-MISC: 0.3420, precision-overall: 0.4906, recall-overall: 0.5282, f1-measure-overall: 0.5087, loss: 0.2367 ||: 100%|██████████| 220/220 [00:57<00:00,  3.86it/s]\n",
      "precision-PER: 0.5868, recall-PER: 0.6368, f1-measure-PER: 0.6108, precision-ORG: 0.3724, recall-ORG: 0.4221, f1-measure-ORG: 0.3957, precision-MISC: 0.4302, recall-MISC: 0.3178, f1-measure-MISC: 0.3656, precision-LOC: 0.6270, recall-LOC: 0.6761, f1-measure-LOC: 0.6506, precision-overall: 0.5297, recall-overall: 0.5510, f1-measure-overall: 0.5401, loss: 0.2174 ||: 100%|██████████| 51/51 [00:02<00:00, 17.22it/s]\n",
      "precision-PER: 0.5154, recall-PER: 0.6165, f1-measure-PER: 0.5614, precision-LOC: 0.6213, recall-LOC: 0.6569, f1-measure-LOC: 0.6386, precision-ORG: 0.3701, recall-ORG: 0.4357, f1-measure-ORG: 0.4002, precision-MISC: 0.4331, recall-MISC: 0.2984, f1-measure-MISC: 0.3534, precision-overall: 0.4965, recall-overall: 0.5336, f1-measure-overall: 0.5144, loss: 0.2363 ||: 100%|██████████| 220/220 [00:54<00:00,  4.01it/s]\n",
      "precision-PER: 0.5689, recall-PER: 0.6699, f1-measure-PER: 0.6153, precision-ORG: 0.3759, recall-ORG: 0.4459, f1-measure-ORG: 0.4079, precision-MISC: 0.4334, recall-MISC: 0.3774, f1-measure-MISC: 0.4035, precision-LOC: 0.6794, recall-LOC: 0.6380, f1-measure-LOC: 0.6581, precision-overall: 0.5331, recall-overall: 0.5641, f1-measure-overall: 0.5482, loss: 0.2139 ||: 100%|██████████| 51/51 [00:02<00:00, 17.60it/s]\n",
      "precision-PER: 0.5189, recall-PER: 0.6262, f1-measure-PER: 0.5675, precision-LOC: 0.6269, recall-LOC: 0.6536, f1-measure-LOC: 0.6400, precision-ORG: 0.3768, recall-ORG: 0.4379, f1-measure-ORG: 0.4050, precision-MISC: 0.4328, recall-MISC: 0.3083, f1-measure-MISC: 0.3601, precision-overall: 0.5010, recall-overall: 0.5374, f1-measure-overall: 0.5186, loss: 0.2341 ||: 100%|██████████| 220/220 [00:54<00:00,  4.02it/s]\n",
      "precision-PER: 0.5827, recall-PER: 0.6634, f1-measure-PER: 0.6205, precision-ORG: 0.3754, recall-ORG: 0.4348, f1-measure-ORG: 0.4029, precision-MISC: 0.4566, recall-MISC: 0.3427, f1-measure-MISC: 0.3916, precision-LOC: 0.6399, recall-LOC: 0.6647, f1-measure-LOC: 0.6521, precision-overall: 0.5347, recall-overall: 0.5624, f1-measure-overall: 0.5482, loss: 0.2123 ||: 100%|██████████| 51/51 [00:02<00:00, 17.55it/s]\n",
      "precision-PER: 0.5278, recall-PER: 0.6276, f1-measure-PER: 0.5734, precision-LOC: 0.6226, recall-LOC: 0.6655, f1-measure-LOC: 0.6433, precision-ORG: 0.3873, recall-ORG: 0.4395, f1-measure-ORG: 0.4118, precision-MISC: 0.4326, recall-MISC: 0.3147, f1-measure-MISC: 0.3644, precision-overall: 0.5071, recall-overall: 0.5427, f1-measure-overall: 0.5243, loss: 0.2307 ||: 100%|██████████| 220/220 [00:54<00:00,  4.01it/s]\n",
      "precision-PER: 0.5820, recall-PER: 0.6862, f1-measure-PER: 0.6298, precision-ORG: 0.4144, recall-ORG: 0.4042, f1-measure-ORG: 0.4092, precision-MISC: 0.4504, recall-MISC: 0.3395, f1-measure-MISC: 0.3871, precision-LOC: 0.6384, recall-LOC: 0.6832, f1-measure-LOC: 0.6600, precision-overall: 0.5494, recall-overall: 0.5678, f1-measure-overall: 0.5585, loss: 0.2100 ||: 100%|██████████| 51/51 [00:02<00:00, 17.29it/s]\n",
      "precision-LOC: 0.6283, recall-LOC: 0.6612, f1-measure-LOC: 0.6443, precision-PER: 0.5276, recall-PER: 0.6323, f1-measure-PER: 0.5752, precision-ORG: 0.3807, recall-ORG: 0.4377, f1-measure-ORG: 0.4072, precision-MISC: 0.4339, recall-MISC: 0.3133, f1-measure-MISC: 0.3639, precision-overall: 0.5060, recall-overall: 0.5421, f1-measure-overall: 0.5234, loss: 0.2263 ||: 100%|██████████| 220/220 [00:55<00:00,  3.96it/s]\n"
     ]
    },
    {
     "name": "stderr",
     "output_type": "stream",
     "text": [
      "precision-PER: 0.6075, recall-PER: 0.6368, f1-measure-PER: 0.6218, precision-ORG: 0.3337, recall-ORG: 0.5213, f1-measure-ORG: 0.4069, precision-MISC: 0.4993, recall-MISC: 0.3839, f1-measure-MISC: 0.4341, precision-LOC: 0.7033, recall-LOC: 0.6130, f1-measure-LOC: 0.6550, precision-overall: 0.5290, recall-overall: 0.5641, f1-measure-overall: 0.5460, loss: 0.2113 ||: 100%|██████████| 51/51 [00:02<00:00, 17.67it/s]\n",
      "precision-PER: 0.5419, recall-PER: 0.6383, f1-measure-PER: 0.5862, precision-ORG: 0.3821, recall-ORG: 0.4495, f1-measure-ORG: 0.4130, precision-MISC: 0.4443, recall-MISC: 0.3211, f1-measure-MISC: 0.3728, precision-LOC: 0.6245, recall-LOC: 0.6623, f1-measure-LOC: 0.6428, precision-overall: 0.5100, recall-overall: 0.5484, f1-measure-overall: 0.5285, loss: 0.2237 ||: 100%|██████████| 220/220 [00:54<00:00,  4.03it/s]\n",
      "precision-PER: 0.6346, recall-PER: 0.6129, f1-measure-PER: 0.6236, precision-ORG: 0.3554, recall-ORG: 0.5004, f1-measure-ORG: 0.4156, precision-MISC: 0.4479, recall-MISC: 0.4523, f1-measure-MISC: 0.4501, precision-LOC: 0.6970, recall-LOC: 0.6298, f1-measure-LOC: 0.6617, precision-overall: 0.5391, recall-overall: 0.5678, f1-measure-overall: 0.5531, loss: 0.2086 ||: 100%|██████████| 51/51 [00:02<00:00, 18.58it/s]\n",
      "precision-PER: 0.5505, recall-PER: 0.6421, f1-measure-PER: 0.5928, precision-LOC: 0.6329, recall-LOC: 0.6702, f1-measure-LOC: 0.6510, precision-ORG: 0.3945, recall-ORG: 0.4556, f1-measure-ORG: 0.4228, precision-MISC: 0.4423, recall-MISC: 0.3499, f1-measure-MISC: 0.3907, precision-overall: 0.5184, recall-overall: 0.5577, f1-measure-overall: 0.5374, loss: 0.2217 ||: 100%|██████████| 220/220 [00:52<00:00,  4.16it/s]\n",
      "precision-PER: 0.6259, recall-PER: 0.6493, f1-measure-PER: 0.6374, precision-ORG: 0.3688, recall-ORG: 0.4802, f1-measure-ORG: 0.4172, precision-MISC: 0.4660, recall-MISC: 0.4317, f1-measure-MISC: 0.4482, precision-LOC: 0.6645, recall-LOC: 0.6641, f1-measure-LOC: 0.6643, precision-overall: 0.5448, recall-overall: 0.5820, f1-measure-overall: 0.5628, loss: 0.2028 ||: 100%|██████████| 51/51 [00:02<00:00, 18.47it/s]\n",
      "precision-PER: 0.5551, recall-PER: 0.6544, f1-measure-PER: 0.6007, precision-ORG: 0.3926, recall-ORG: 0.4529, f1-measure-ORG: 0.4206, precision-MISC: 0.4501, recall-MISC: 0.3531, f1-measure-MISC: 0.3958, precision-LOC: 0.6411, recall-LOC: 0.6696, f1-measure-LOC: 0.6551, precision-overall: 0.5223, recall-overall: 0.5607, f1-measure-overall: 0.5409, loss: 0.2191 ||: 100%|██████████| 220/220 [00:53<00:00,  4.15it/s]\n",
      "precision-PER: 0.6596, recall-PER: 0.5912, f1-measure-PER: 0.6235, precision-ORG: 0.3505, recall-ORG: 0.5168, f1-measure-ORG: 0.4177, precision-MISC: 0.4666, recall-MISC: 0.4696, f1-measure-MISC: 0.4681, precision-LOC: 0.7019, recall-LOC: 0.6331, f1-measure-LOC: 0.6657, precision-overall: 0.5437, recall-overall: 0.5685, f1-measure-overall: 0.5558, loss: 0.2070 ||: 100%|██████████| 51/51 [00:02<00:00, 18.99it/s]\n",
      "precision-PER: 0.5577, recall-PER: 0.6439, f1-measure-PER: 0.5977, precision-LOC: 0.6328, recall-LOC: 0.6749, f1-measure-LOC: 0.6532, precision-ORG: 0.4005, recall-ORG: 0.4656, f1-measure-ORG: 0.4306, precision-MISC: 0.4660, recall-MISC: 0.3546, f1-measure-MISC: 0.4027, precision-overall: 0.5251, recall-overall: 0.5630, f1-measure-overall: 0.5434, loss: 0.2173 ||: 100%|██████████| 220/220 [00:54<00:00,  4.06it/s]\n",
      "precision-PER: 0.6178, recall-PER: 0.6721, f1-measure-PER: 0.6438, precision-ORG: 0.3801, recall-ORG: 0.4787, f1-measure-ORG: 0.4238, precision-MISC: 0.4752, recall-MISC: 0.4675, f1-measure-MISC: 0.4713, precision-LOC: 0.7002, recall-LOC: 0.6483, f1-measure-LOC: 0.6733, precision-overall: 0.5558, recall-overall: 0.5894, f1-measure-overall: 0.5721, loss: 0.1999 ||: 100%|██████████| 51/51 [00:02<00:00, 18.31it/s]\n",
      "precision-PER: 0.5733, recall-PER: 0.6562, f1-measure-PER: 0.6119, precision-LOC: 0.6421, recall-LOC: 0.6811, f1-measure-LOC: 0.6610, precision-ORG: 0.4057, recall-ORG: 0.4705, f1-measure-ORG: 0.4357, precision-MISC: 0.4670, recall-MISC: 0.3700, f1-measure-MISC: 0.4129, precision-overall: 0.5337, recall-overall: 0.5719, f1-measure-overall: 0.5522, loss: 0.2146 ||: 100%|██████████| 220/220 [00:53<00:00,  4.09it/s]\n",
      "precision-PER: 0.5905, recall-PER: 0.7226, f1-measure-PER: 0.6499, precision-ORG: 0.3904, recall-ORG: 0.4713, f1-measure-ORG: 0.4270, precision-MISC: 0.5222, recall-MISC: 0.4469, f1-measure-MISC: 0.4816, precision-LOC: 0.6954, recall-LOC: 0.6587, f1-measure-LOC: 0.6765, precision-overall: 0.5600, recall-overall: 0.6033, f1-measure-overall: 0.5808, loss: 0.1975 ||: 100%|██████████| 51/51 [00:02<00:00, 17.63it/s]\n",
      "precision-PER: 0.5760, recall-PER: 0.6611, f1-measure-PER: 0.6156, precision-LOC: 0.6397, recall-LOC: 0.6873, f1-measure-LOC: 0.6626, precision-ORG: 0.4126, recall-ORG: 0.4681, f1-measure-ORG: 0.4386, precision-MISC: 0.4847, recall-MISC: 0.3869, f1-measure-MISC: 0.4303, precision-overall: 0.5389, recall-overall: 0.5770, f1-measure-overall: 0.5573, loss: 0.2106 ||: 100%|██████████| 220/220 [00:54<00:00,  4.03it/s]\n",
      "precision-PER: 0.6313, recall-PER: 0.6786, f1-measure-PER: 0.6541, precision-ORG: 0.4006, recall-ORG: 0.4676, f1-measure-ORG: 0.4315, precision-MISC: 0.4789, recall-MISC: 0.4794, f1-measure-MISC: 0.4791, precision-LOC: 0.6830, recall-LOC: 0.6745, f1-measure-LOC: 0.6787, precision-overall: 0.5664, recall-overall: 0.5988, f1-measure-overall: 0.5821, loss: 0.1943 ||: 100%|██████████| 51/51 [00:02<00:00, 17.47it/s]\n",
      "precision-PER: 0.5790, recall-PER: 0.6715, f1-measure-PER: 0.6219, precision-LOC: 0.6436, recall-LOC: 0.6818, f1-measure-LOC: 0.6621, precision-ORG: 0.4170, recall-ORG: 0.4699, f1-measure-ORG: 0.4419, precision-MISC: 0.4637, recall-MISC: 0.3775, f1-measure-MISC: 0.4162, precision-overall: 0.5397, recall-overall: 0.5774, f1-measure-overall: 0.5579, loss: 0.2113 ||: 100%|██████████| 220/220 [00:54<00:00,  4.07it/s]\n",
      "precision-PER: 0.6684, recall-PER: 0.6314, f1-measure-PER: 0.6494, precision-ORG: 0.3875, recall-ORG: 0.4840, f1-measure-ORG: 0.4304, precision-MISC: 0.4790, recall-MISC: 0.4577, f1-measure-MISC: 0.4681, precision-LOC: 0.6704, recall-LOC: 0.6875, f1-measure-LOC: 0.6788, precision-overall: 0.5659, recall-overall: 0.5885, f1-measure-overall: 0.5770, loss: 0.1954 ||: 100%|██████████| 51/51 [00:02<00:00, 18.81it/s]\n",
      "precision-PER: 0.5829, recall-PER: 0.6617, f1-measure-PER: 0.6198, precision-LOC: 0.6429, recall-LOC: 0.6840, f1-measure-LOC: 0.6628, precision-ORG: 0.4200, recall-ORG: 0.4813, f1-measure-ORG: 0.4486, precision-MISC: 0.4848, recall-MISC: 0.3886, f1-measure-MISC: 0.4314, precision-overall: 0.5433, recall-overall: 0.5800, f1-measure-overall: 0.5610, loss: 0.2068 ||: 100%|██████████| 220/220 [00:52<00:00,  4.22it/s]\n",
      "precision-LOC: 0.6909, recall-LOC: 0.6815, f1-measure-LOC: 0.6862, precision-PER: 0.6300, recall-PER: 0.7090, f1-measure-PER: 0.6672, precision-ORG: 0.4109, recall-ORG: 0.4676, f1-measure-ORG: 0.4374, precision-MISC: 0.4932, recall-MISC: 0.4696, f1-measure-MISC: 0.4811, precision-overall: 0.5753, recall-overall: 0.6089, f1-measure-overall: 0.5916, loss: 0.1904 ||: 100%|██████████| 51/51 [00:02<00:00, 19.04it/s]\n",
      "precision-PER: 0.5887, recall-PER: 0.6685, f1-measure-PER: 0.6260, precision-LOC: 0.6446, recall-LOC: 0.6857, f1-measure-LOC: 0.6645, precision-ORG: 0.4263, recall-ORG: 0.4825, f1-measure-ORG: 0.4527, precision-MISC: 0.4756, recall-MISC: 0.3994, f1-measure-MISC: 0.4342, precision-overall: 0.5464, recall-overall: 0.5843, f1-measure-overall: 0.5647, loss: 0.2052 ||: 100%|██████████| 220/220 [00:53<00:00,  4.09it/s]\n",
      "precision-PER: 0.6174, recall-PER: 0.7394, f1-measure-PER: 0.6729, precision-ORG: 0.4682, recall-ORG: 0.4169, f1-measure-ORG: 0.4410, precision-MISC: 0.4902, recall-MISC: 0.4588, f1-measure-MISC: 0.4739, precision-LOC: 0.6550, recall-LOC: 0.7235, f1-measure-LOC: 0.6875, precision-overall: 0.5838, recall-overall: 0.6181, f1-measure-overall: 0.6005, loss: 0.1864 ||: 100%|██████████| 51/51 [00:02<00:00, 18.97it/s]\n"
     ]
    },
    {
     "name": "stderr",
     "output_type": "stream",
     "text": [
      "precision-PER: 0.5924, recall-PER: 0.6705, f1-measure-PER: 0.6290, precision-ORG: 0.4255, recall-ORG: 0.4797, f1-measure-ORG: 0.4510, precision-MISC: 0.4820, recall-MISC: 0.4017, f1-measure-MISC: 0.4382, precision-LOC: 0.6474, recall-LOC: 0.6866, f1-measure-LOC: 0.6664, precision-overall: 0.5489, recall-overall: 0.5847, f1-measure-overall: 0.5662, loss: 0.2037 ||: 100%|██████████| 220/220 [00:53<00:00,  4.13it/s]\n",
      "precision-PER: 0.6918, recall-PER: 0.6178, f1-measure-PER: 0.6527, precision-ORG: 0.3726, recall-ORG: 0.5541, f1-measure-ORG: 0.4456, precision-MISC: 0.5249, recall-MISC: 0.5033, f1-measure-MISC: 0.5138, precision-LOC: 0.6904, recall-LOC: 0.6761, f1-measure-LOC: 0.6832, precision-overall: 0.5674, recall-overall: 0.6037, f1-measure-overall: 0.5850, loss: 0.1907 ||: 100%|██████████| 51/51 [00:02<00:00, 18.25it/s]\n",
      "precision-PER: 0.5948, recall-PER: 0.6641, f1-measure-PER: 0.6275, precision-LOC: 0.6548, recall-LOC: 0.6933, f1-measure-LOC: 0.6735, precision-ORG: 0.4272, recall-ORG: 0.4917, f1-measure-ORG: 0.4572, precision-MISC: 0.4933, recall-MISC: 0.4197, f1-measure-MISC: 0.4536, precision-overall: 0.5525, recall-overall: 0.5908, f1-measure-overall: 0.5710, loss: 0.2021 ||: 100%|██████████| 220/220 [00:53<00:00,  4.10it/s]\n",
      "precision-PER: 0.6572, recall-PER: 0.7058, f1-measure-PER: 0.6806, precision-ORG: 0.4072, recall-ORG: 0.4825, f1-measure-ORG: 0.4416, precision-MISC: 0.5348, recall-MISC: 0.4588, f1-measure-MISC: 0.4939, precision-LOC: 0.6628, recall-LOC: 0.7115, f1-measure-LOC: 0.6863, precision-overall: 0.5809, recall-overall: 0.6188, f1-measure-overall: 0.5993, loss: 0.1853 ||: 100%|██████████| 51/51 [00:02<00:00, 17.90it/s]\n",
      "precision-PER: 0.6005, recall-PER: 0.6798, f1-measure-PER: 0.6377, precision-ORG: 0.4406, recall-ORG: 0.4919, f1-measure-ORG: 0.4648, precision-MISC: 0.4899, recall-MISC: 0.4171, f1-measure-MISC: 0.4506, precision-LOC: 0.6571, recall-LOC: 0.6992, f1-measure-LOC: 0.6775, precision-overall: 0.5597, recall-overall: 0.5967, f1-measure-overall: 0.5776, loss: 0.1992 ||: 100%|██████████| 220/220 [00:52<00:00,  4.17it/s]\n",
      "precision-PER: 0.6864, recall-PER: 0.6536, f1-measure-PER: 0.6696, precision-ORG: 0.3763, recall-ORG: 0.5600, f1-measure-ORG: 0.4501, precision-MISC: 0.5363, recall-MISC: 0.4967, f1-measure-MISC: 0.5158, precision-LOC: 0.7003, recall-LOC: 0.6805, f1-measure-LOC: 0.6902, precision-overall: 0.5733, recall-overall: 0.6165, f1-measure-overall: 0.5941, loss: 0.1867 ||: 100%|██████████| 51/51 [00:02<00:00, 19.07it/s]\n",
      "precision-PER: 0.6003, recall-PER: 0.6739, f1-measure-PER: 0.6350, precision-LOC: 0.6596, recall-LOC: 0.6996, f1-measure-LOC: 0.6790, precision-ORG: 0.4365, recall-ORG: 0.4956, f1-measure-ORG: 0.4642, precision-MISC: 0.4900, recall-MISC: 0.4194, f1-measure-MISC: 0.4520, precision-overall: 0.5584, recall-overall: 0.5965, f1-measure-overall: 0.5768, loss: 0.1970 ||: 100%|██████████| 220/220 [00:53<00:00,  4.09it/s]\n",
      "precision-PER: 0.6623, recall-PER: 0.7079, f1-measure-PER: 0.6843, precision-ORG: 0.4122, recall-ORG: 0.5004, f1-measure-ORG: 0.4520, precision-MISC: 0.5061, recall-MISC: 0.5369, f1-measure-MISC: 0.5211, precision-LOC: 0.7165, recall-LOC: 0.6685, f1-measure-LOC: 0.6916, precision-overall: 0.5880, recall-overall: 0.6223, f1-measure-overall: 0.6047, loss: 0.1836 ||: 100%|██████████| 51/51 [00:02<00:00, 18.85it/s]\n",
      "precision-PER: 0.6137, recall-PER: 0.6877, f1-measure-PER: 0.6486, precision-LOC: 0.6668, recall-LOC: 0.6947, f1-measure-LOC: 0.6805, precision-ORG: 0.4473, recall-ORG: 0.5089, f1-measure-ORG: 0.4761, precision-MISC: 0.4988, recall-MISC: 0.4337, f1-measure-MISC: 0.4640, precision-overall: 0.5679, recall-overall: 0.6046, f1-measure-overall: 0.5857, loss: 0.1957 ||: 100%|██████████| 220/220 [00:58<00:00,  3.77it/s]\n",
      "precision-PER: 0.6603, recall-PER: 0.7112, f1-measure-PER: 0.6848, precision-ORG: 0.4173, recall-ORG: 0.4966, f1-measure-ORG: 0.4535, precision-MISC: 0.5390, recall-MISC: 0.5022, f1-measure-MISC: 0.5199, precision-LOC: 0.6909, recall-LOC: 0.6973, f1-measure-LOC: 0.6941, precision-overall: 0.5911, recall-overall: 0.6261, f1-measure-overall: 0.6081, loss: 0.1816 ||: 100%|██████████| 51/51 [00:03<00:00, 15.11it/s]\n",
      "precision-PER: 0.6137, recall-PER: 0.6905, f1-measure-PER: 0.6498, precision-LOC: 0.6653, recall-LOC: 0.7067, f1-measure-LOC: 0.6854, precision-ORG: 0.4476, recall-ORG: 0.4982, f1-measure-ORG: 0.4715, precision-MISC: 0.5087, recall-MISC: 0.4412, f1-measure-MISC: 0.4726, precision-overall: 0.5701, recall-overall: 0.6072, f1-measure-overall: 0.5881, loss: 0.1938 ||: 100%|██████████| 220/220 [01:03<00:00,  3.44it/s]\n",
      "precision-LOC: 0.6813, recall-LOC: 0.7099, f1-measure-LOC: 0.6953, precision-PER: 0.6816, recall-PER: 0.7041, f1-measure-PER: 0.6927, precision-ORG: 0.4201, recall-ORG: 0.5153, f1-measure-ORG: 0.4628, precision-MISC: 0.5466, recall-MISC: 0.5022, f1-measure-MISC: 0.5235, precision-overall: 0.5952, recall-overall: 0.6319, f1-measure-overall: 0.6130, loss: 0.1800 ||: 100%|██████████| 51/51 [00:03<00:00, 12.84it/s]\n",
      "precision-PER: 0.6243, recall-PER: 0.6961, f1-measure-PER: 0.6582, precision-LOC: 0.6663, recall-LOC: 0.7074, f1-measure-LOC: 0.6862, precision-ORG: 0.4511, recall-ORG: 0.5061, f1-measure-ORG: 0.4770, precision-MISC: 0.5041, recall-MISC: 0.4503, f1-measure-MISC: 0.4756, precision-overall: 0.5733, recall-overall: 0.6125, f1-measure-overall: 0.5923, loss: 0.1927 ||: 100%|██████████| 220/220 [01:00<00:00,  3.62it/s]\n",
      "precision-PER: 0.6788, recall-PER: 0.7079, f1-measure-PER: 0.6931, precision-ORG: 0.3981, recall-ORG: 0.5377, f1-measure-ORG: 0.4575, precision-MISC: 0.5728, recall-MISC: 0.5163, f1-measure-MISC: 0.5431, precision-LOC: 0.7104, recall-LOC: 0.6837, f1-measure-LOC: 0.6968, precision-overall: 0.5934, recall-overall: 0.6323, f1-measure-overall: 0.6122, loss: 0.1794 ||: 100%|██████████| 51/51 [00:03<00:00, 14.35it/s]\n",
      "precision-PER: 0.6246, recall-PER: 0.6947, f1-measure-PER: 0.6578, precision-LOC: 0.6628, recall-LOC: 0.7032, f1-measure-LOC: 0.6824, precision-ORG: 0.4536, recall-ORG: 0.5129, f1-measure-ORG: 0.4814, precision-MISC: 0.5108, recall-MISC: 0.4535, f1-measure-MISC: 0.4804, precision-overall: 0.5736, recall-overall: 0.6131, f1-measure-overall: 0.5927, loss: 0.1890 ||: 100%|██████████| 220/220 [01:02<00:00,  3.53it/s]\n",
      "precision-PER: 0.6858, recall-PER: 0.6992, f1-measure-PER: 0.6925, precision-ORG: 0.4450, recall-ORG: 0.4765, f1-measure-ORG: 0.4602, precision-MISC: 0.5238, recall-MISC: 0.5249, f1-measure-MISC: 0.5244, precision-LOC: 0.6859, recall-LOC: 0.7262, f1-measure-LOC: 0.7054, precision-overall: 0.6057, recall-overall: 0.6303, f1-measure-overall: 0.6177, loss: 0.1762 ||: 100%|██████████| 51/51 [00:03<00:00, 15.27it/s]\n",
      "precision-PER: 0.6297, recall-PER: 0.6971, f1-measure-PER: 0.6617, precision-LOC: 0.6682, recall-LOC: 0.7094, f1-measure-LOC: 0.6882, precision-ORG: 0.4555, recall-ORG: 0.5089, f1-measure-ORG: 0.4808, precision-MISC: 0.5138, recall-MISC: 0.4648, f1-measure-MISC: 0.4881, precision-overall: 0.5779, recall-overall: 0.6162, f1-measure-overall: 0.5964, loss: 0.1873 ||: 100%|██████████| 220/220 [01:02<00:00,  3.50it/s]\n",
      "precision-PER: 0.6564, recall-PER: 0.7497, f1-measure-PER: 0.6999, precision-ORG: 0.4312, recall-ORG: 0.5160, f1-measure-ORG: 0.4698, precision-MISC: 0.5752, recall-MISC: 0.5184, f1-measure-MISC: 0.5454, precision-LOC: 0.7097, recall-LOC: 0.6973, f1-measure-LOC: 0.7035, precision-overall: 0.6039, recall-overall: 0.6449, f1-measure-overall: 0.6237, loss: 0.1765 ||: 100%|██████████| 51/51 [00:05<00:00,  9.57it/s]\n",
      "precision-PER: 0.6340, recall-PER: 0.6967, f1-measure-PER: 0.6639, precision-LOC: 0.6736, recall-LOC: 0.7122, f1-measure-LOC: 0.6924, precision-ORG: 0.4526, recall-ORG: 0.5175, f1-measure-ORG: 0.4829, precision-MISC: 0.5203, recall-MISC: 0.4613, f1-measure-MISC: 0.4891, precision-overall: 0.5798, recall-overall: 0.6187, f1-measure-overall: 0.5987, loss: 0.1873 ||: 100%|██████████| 220/220 [01:11<00:00,  3.08it/s]\n"
     ]
    },
    {
     "name": "stderr",
     "output_type": "stream",
     "text": [
      "precision-PER: 0.6794, recall-PER: 0.7329, f1-measure-PER: 0.7051, precision-ORG: 0.4344, recall-ORG: 0.5183, f1-measure-ORG: 0.4726, precision-MISC: 0.5573, recall-MISC: 0.5434, f1-measure-MISC: 0.5502, precision-LOC: 0.7178, recall-LOC: 0.6908, f1-measure-LOC: 0.7040, precision-overall: 0.6100, recall-overall: 0.6420, f1-measure-overall: 0.6256, loss: 0.1730 ||: 100%|██████████| 51/51 [00:03<00:00, 14.58it/s]\n",
      "precision-PER: 0.6335, recall-PER: 0.7085, f1-measure-PER: 0.6689, precision-LOC: 0.6734, recall-LOC: 0.7126, f1-measure-LOC: 0.6924, precision-ORG: 0.4717, recall-ORG: 0.5257, f1-measure-ORG: 0.4973, precision-MISC: 0.5181, recall-MISC: 0.4654, f1-measure-MISC: 0.4903, precision-overall: 0.5859, recall-overall: 0.6250, f1-measure-overall: 0.6048, loss: 0.1831 ||: 100%|██████████| 220/220 [01:00<00:00,  3.66it/s]\n",
      "precision-PER: 0.7026, recall-PER: 0.6976, f1-measure-PER: 0.7001, precision-ORG: 0.4332, recall-ORG: 0.5004, f1-measure-ORG: 0.4644, precision-MISC: 0.5383, recall-MISC: 0.5412, f1-measure-MISC: 0.5398, precision-LOC: 0.6954, recall-LOC: 0.7109, f1-measure-LOC: 0.7031, precision-overall: 0.6083, recall-overall: 0.6330, f1-measure-overall: 0.6204, loss: 0.1740 ||: 100%|██████████| 51/51 [00:02<00:00, 17.80it/s]\n",
      "precision-PER: 0.6379, recall-PER: 0.7083, f1-measure-PER: 0.6713, precision-LOC: 0.6785, recall-LOC: 0.7164, f1-measure-LOC: 0.6969, precision-ORG: 0.4767, recall-ORG: 0.5219, f1-measure-ORG: 0.4983, precision-MISC: 0.5271, recall-MISC: 0.4814, f1-measure-MISC: 0.5032, precision-overall: 0.5915, recall-overall: 0.6274, f1-measure-overall: 0.6089, loss: 0.1822 ||: 100%|██████████| 220/220 [01:06<00:00,  3.33it/s]\n",
      "precision-PER: 0.6947, recall-PER: 0.7177, f1-measure-PER: 0.7060, precision-ORG: 0.4555, recall-ORG: 0.4847, f1-measure-ORG: 0.4697, precision-MISC: 0.5165, recall-MISC: 0.5781, f1-measure-MISC: 0.5455, precision-LOC: 0.7036, recall-LOC: 0.7093, f1-measure-LOC: 0.7064, precision-overall: 0.6128, recall-overall: 0.6409, f1-measure-overall: 0.6265, loss: 0.1707 ||: 100%|██████████| 51/51 [00:03<00:00, 14.35it/s]\n",
      "precision-PER: 0.6401, recall-PER: 0.7074, f1-measure-PER: 0.6721, precision-LOC: 0.6757, recall-LOC: 0.7111, f1-measure-LOC: 0.6929, precision-ORG: 0.4677, recall-ORG: 0.5235, f1-measure-ORG: 0.4940, precision-MISC: 0.5283, recall-MISC: 0.4852, f1-measure-MISC: 0.5058, precision-overall: 0.5880, recall-overall: 0.6265, f1-measure-overall: 0.6066, loss: 0.1820 ||: 100%|██████████| 220/220 [01:00<00:00,  3.62it/s]\n",
      "precision-PER: 0.7548, recall-PER: 0.6232, f1-measure-PER: 0.6827, precision-ORG: 0.4369, recall-ORG: 0.5011, f1-measure-ORG: 0.4668, precision-MISC: 0.5072, recall-MISC: 0.5315, f1-measure-MISC: 0.5191, precision-LOC: 0.6812, recall-LOC: 0.7224, f1-measure-LOC: 0.7012, precision-overall: 0.6089, recall-overall: 0.6121, f1-measure-overall: 0.6105, loss: 0.1799 ||: 100%|██████████| 51/51 [00:03<00:00, 13.81it/s]\n",
      "precision-LOC: 0.6787, recall-LOC: 0.7255, f1-measure-LOC: 0.7013, precision-PER: 0.6490, recall-PER: 0.7117, f1-measure-PER: 0.6789, precision-ORG: 0.4795, recall-ORG: 0.5282, f1-measure-ORG: 0.5027, precision-MISC: 0.5447, recall-MISC: 0.4948, f1-measure-MISC: 0.5185, precision-overall: 0.5978, recall-overall: 0.6348, f1-measure-overall: 0.6157, loss: 0.1796 ||: 100%|██████████| 220/220 [00:59<00:00,  3.67it/s]\n",
      "precision-PER: 0.6887, recall-PER: 0.7362, f1-measure-PER: 0.7116, precision-LOC: 0.6887, recall-LOC: 0.7262, f1-measure-LOC: 0.7069, precision-ORG: 0.4481, recall-ORG: 0.5116, f1-measure-ORG: 0.4777, precision-MISC: 0.5795, recall-MISC: 0.5456, f1-measure-MISC: 0.5620, precision-overall: 0.6152, recall-overall: 0.6528, f1-measure-overall: 0.6335, loss: 0.1664 ||: 100%|██████████| 51/51 [00:03<00:00, 15.15it/s]\n",
      "precision-PER: 0.6464, recall-PER: 0.7136, f1-measure-PER: 0.6783, precision-LOC: 0.6765, recall-LOC: 0.7230, f1-measure-LOC: 0.6989, precision-ORG: 0.4821, recall-ORG: 0.5316, f1-measure-ORG: 0.5056, precision-MISC: 0.5372, recall-MISC: 0.4872, f1-measure-MISC: 0.5110, precision-overall: 0.5962, recall-overall: 0.6344, f1-measure-overall: 0.6147, loss: 0.1765 ||: 100%|██████████| 220/220 [00:57<00:00,  3.85it/s]\n",
      "precision-PER: 0.7246, recall-PER: 0.6857, f1-measure-PER: 0.7046, precision-LOC: 0.6948, recall-LOC: 0.7224, f1-measure-LOC: 0.7083, precision-ORG: 0.4285, recall-ORG: 0.5429, f1-measure-ORG: 0.4789, precision-MISC: 0.5780, recall-MISC: 0.5466, f1-measure-MISC: 0.5619, precision-overall: 0.6141, recall-overall: 0.6432, f1-measure-overall: 0.6283, loss: 0.1689 ||: 100%|██████████| 51/51 [00:02<00:00, 17.57it/s]\n",
      "precision-PER: 0.6558, recall-PER: 0.7136, f1-measure-PER: 0.6835, precision-LOC: 0.6832, recall-LOC: 0.7270, f1-measure-LOC: 0.7044, precision-ORG: 0.4782, recall-ORG: 0.5338, f1-measure-ORG: 0.5044, precision-MISC: 0.5415, recall-MISC: 0.4933, f1-measure-MISC: 0.5163, precision-overall: 0.5996, recall-overall: 0.6371, f1-measure-overall: 0.6178, loss: 0.1749 ||: 100%|██████████| 220/220 [00:58<00:00,  3.73it/s]\n",
      "precision-PER: 0.6876, recall-PER: 0.7481, f1-measure-PER: 0.7166, precision-LOC: 0.7135, recall-LOC: 0.7050, f1-measure-LOC: 0.7092, precision-ORG: 0.4631, recall-ORG: 0.4959, f1-measure-ORG: 0.4789, precision-MISC: 0.5472, recall-MISC: 0.5781, f1-measure-MISC: 0.5622, precision-overall: 0.6214, recall-overall: 0.6515, f1-measure-overall: 0.6361, loss: 0.1644 ||: 100%|██████████| 51/51 [00:03<00:00, 15.84it/s]\n",
      "precision-PER: 0.6511, recall-PER: 0.7185, f1-measure-PER: 0.6831, precision-LOC: 0.6937, recall-LOC: 0.7277, f1-measure-LOC: 0.7103, precision-ORG: 0.4917, recall-ORG: 0.5414, f1-measure-ORG: 0.5154, precision-MISC: 0.5432, recall-MISC: 0.5105, f1-measure-MISC: 0.5263, precision-overall: 0.6055, recall-overall: 0.6432, f1-measure-overall: 0.6238, loss: 0.1740 ||: 100%|██████████| 220/220 [01:01<00:00,  3.58it/s]\n",
      "precision-PER: 0.7089, recall-PER: 0.7204, f1-measure-PER: 0.7146, precision-ORG: 0.4172, recall-ORG: 0.5839, f1-measure-ORG: 0.4866, precision-MISC: 0.6089, recall-MISC: 0.5640, f1-measure-MISC: 0.5856, precision-LOC: 0.7377, recall-LOC: 0.6875, f1-measure-LOC: 0.7117, precision-overall: 0.6165, recall-overall: 0.6552, f1-measure-overall: 0.6352, loss: 0.1680 ||: 100%|██████████| 51/51 [00:03<00:00, 15.13it/s]\n",
      "precision-LOC: 0.6971, recall-LOC: 0.7342, f1-measure-LOC: 0.7151, precision-PER: 0.6668, recall-PER: 0.7273, f1-measure-PER: 0.6957, precision-ORG: 0.4894, recall-ORG: 0.5426, f1-measure-ORG: 0.5146, precision-MISC: 0.5485, recall-MISC: 0.5119, f1-measure-MISC: 0.5296, precision-overall: 0.6108, recall-overall: 0.6482, f1-measure-overall: 0.6290, loss: 0.1723 ||: 100%|██████████| 220/220 [01:00<00:00,  3.64it/s]\n",
      "precision-PER: 0.7133, recall-PER: 0.7362, f1-measure-PER: 0.7246, precision-ORG: 0.4456, recall-ORG: 0.5593, f1-measure-ORG: 0.4960, precision-MISC: 0.5860, recall-MISC: 0.5803, f1-measure-MISC: 0.5831, precision-LOC: 0.7263, recall-LOC: 0.7050, f1-measure-LOC: 0.7155, precision-overall: 0.6268, recall-overall: 0.6624, f1-measure-overall: 0.6441, loss: 0.1635 ||: 100%|██████████| 51/51 [00:03<00:00, 15.84it/s]\n",
      "precision-PER: 0.6608, recall-PER: 0.7188, f1-measure-PER: 0.6886, precision-LOC: 0.6854, recall-LOC: 0.7346, f1-measure-LOC: 0.7091, precision-ORG: 0.4892, recall-ORG: 0.5431, f1-measure-ORG: 0.5148, precision-MISC: 0.5579, recall-MISC: 0.5209, f1-measure-MISC: 0.5388, precision-overall: 0.6071, recall-overall: 0.6474, f1-measure-overall: 0.6266, loss: 0.1737 ||: 100%|██████████| 220/220 [00:57<00:00,  3.82it/s]\n",
      "precision-PER: 0.7224, recall-PER: 0.7220, f1-measure-PER: 0.7222, precision-ORG: 0.4650, recall-ORG: 0.5295, f1-measure-ORG: 0.4951, precision-MISC: 0.5670, recall-MISC: 0.5965, f1-measure-MISC: 0.5814, precision-LOC: 0.7136, recall-LOC: 0.7175, f1-measure-LOC: 0.7155, precision-overall: 0.6319, recall-overall: 0.6577, f1-measure-overall: 0.6445, loss: 0.1621 ||: 100%|██████████| 51/51 [00:02<00:00, 17.01it/s]\n"
     ]
    },
    {
     "name": "stderr",
     "output_type": "stream",
     "text": [
      "precision-PER: 0.6632, recall-PER: 0.7256, f1-measure-PER: 0.6930, precision-ORG: 0.4903, recall-ORG: 0.5463, f1-measure-ORG: 0.5168, precision-MISC: 0.5497, recall-MISC: 0.5166, f1-measure-MISC: 0.5326, precision-LOC: 0.6933, recall-LOC: 0.7301, f1-measure-LOC: 0.7112, precision-overall: 0.6089, recall-overall: 0.6482, f1-measure-overall: 0.6279, loss: 0.1702 ||: 100%|██████████| 220/220 [00:55<00:00,  3.97it/s]\n",
      "precision-PER: 0.7222, recall-PER: 0.7253, f1-measure-PER: 0.7237, precision-LOC: 0.7125, recall-LOC: 0.7246, f1-measure-LOC: 0.7185, precision-ORG: 0.4441, recall-ORG: 0.5541, f1-measure-ORG: 0.4930, precision-MISC: 0.5875, recall-MISC: 0.5716, f1-measure-MISC: 0.5794, precision-overall: 0.6261, recall-overall: 0.6626, f1-measure-overall: 0.6438, loss: 0.1615 ||: 100%|██████████| 51/51 [00:03<00:00, 16.95it/s]\n",
      "precision-PER: 0.6698, recall-PER: 0.7208, f1-measure-PER: 0.6944, precision-LOC: 0.6899, recall-LOC: 0.7361, f1-measure-LOC: 0.7122, precision-ORG: 0.4977, recall-ORG: 0.5467, f1-measure-ORG: 0.5211, precision-MISC: 0.5586, recall-MISC: 0.5244, f1-measure-MISC: 0.5410, precision-overall: 0.6135, recall-overall: 0.6499, f1-measure-overall: 0.6312, loss: 0.1695 ||: 100%|██████████| 220/220 [00:55<00:00,  3.94it/s]\n",
      "precision-PER: 0.7302, recall-PER: 0.6906, f1-measure-PER: 0.7098, precision-ORG: 0.4561, recall-ORG: 0.5384, f1-measure-ORG: 0.4938, precision-MISC: 0.5975, recall-MISC: 0.5618, f1-measure-MISC: 0.5791, precision-LOC: 0.6784, recall-LOC: 0.7637, f1-measure-LOC: 0.7186, precision-overall: 0.6254, recall-overall: 0.6589, f1-measure-overall: 0.6417, loss: 0.1602 ||: 100%|██████████| 51/51 [00:03<00:00, 16.72it/s]\n",
      "precision-PER: 0.6751, recall-PER: 0.7342, f1-measure-PER: 0.7034, precision-ORG: 0.5014, recall-ORG: 0.5496, f1-measure-ORG: 0.5244, precision-MISC: 0.5568, recall-MISC: 0.5218, f1-measure-MISC: 0.5387, precision-LOC: 0.6930, recall-LOC: 0.7394, f1-measure-LOC: 0.7154, precision-overall: 0.6170, recall-overall: 0.6550, f1-measure-overall: 0.6355, loss: 0.1688 ||: 100%|██████████| 220/220 [00:55<00:00,  3.95it/s]\n",
      "precision-PER: 0.7445, recall-PER: 0.6819, f1-measure-PER: 0.7118, precision-ORG: 0.4616, recall-ORG: 0.5421, f1-measure-ORG: 0.4986, precision-MISC: 0.5823, recall-MISC: 0.5835, f1-measure-MISC: 0.5829, precision-LOC: 0.6867, recall-LOC: 0.7529, f1-measure-LOC: 0.7183, precision-overall: 0.6297, recall-overall: 0.6570, f1-measure-overall: 0.6431, loss: 0.1607 ||: 100%|██████████| 51/51 [00:02<00:00, 17.24it/s]\n",
      "precision-LOC: 0.6975, recall-LOC: 0.7443, f1-measure-LOC: 0.7201, precision-PER: 0.6737, recall-PER: 0.7388, f1-measure-PER: 0.7047, precision-ORG: 0.5105, recall-ORG: 0.5555, f1-measure-ORG: 0.5321, precision-MISC: 0.5618, recall-MISC: 0.5273, f1-measure-MISC: 0.5440, precision-overall: 0.6215, recall-overall: 0.6602, f1-measure-overall: 0.6403, loss: 0.1663 ||: 100%|██████████| 220/220 [00:56<00:00,  3.90it/s]\n",
      "precision-PER: 0.6826, recall-PER: 0.7845, f1-measure-PER: 0.7300, precision-ORG: 0.4579, recall-ORG: 0.5518, f1-measure-ORG: 0.5005, precision-MISC: 0.5952, recall-MISC: 0.5933, f1-measure-MISC: 0.5942, precision-LOC: 0.7604, recall-LOC: 0.6962, f1-measure-LOC: 0.7269, precision-overall: 0.6332, recall-overall: 0.6750, f1-measure-overall: 0.6535, loss: 0.1587 ||: 100%|██████████| 51/51 [00:03<00:00, 15.73it/s]\n",
      "precision-PER: 0.6666, recall-PER: 0.7320, f1-measure-PER: 0.6978, precision-LOC: 0.6978, recall-LOC: 0.7368, f1-measure-LOC: 0.7168, precision-ORG: 0.5082, recall-ORG: 0.5580, f1-measure-ORG: 0.5319, precision-MISC: 0.5664, recall-MISC: 0.5308, f1-measure-MISC: 0.5480, precision-overall: 0.6190, recall-overall: 0.6572, f1-measure-overall: 0.6376, loss: 0.1655 ||: 100%|██████████| 220/220 [00:59<00:00,  3.68it/s]\n",
      "precision-PER: 0.7320, recall-PER: 0.7237, f1-measure-PER: 0.7278, precision-ORG: 0.4650, recall-ORG: 0.5444, f1-measure-ORG: 0.5015, precision-MISC: 0.5856, recall-MISC: 0.6009, f1-measure-MISC: 0.5931, precision-LOC: 0.7066, recall-LOC: 0.7382, f1-measure-LOC: 0.7220, precision-overall: 0.6351, recall-overall: 0.6686, f1-measure-overall: 0.6514, loss: 0.1566 ||: 100%|██████████| 51/51 [00:03<00:00, 14.56it/s]\n",
      "precision-PER: 0.6855, recall-PER: 0.7350, f1-measure-PER: 0.7094, precision-LOC: 0.6992, recall-LOC: 0.7406, f1-measure-LOC: 0.7193, precision-ORG: 0.5086, recall-ORG: 0.5616, f1-measure-ORG: 0.5338, precision-MISC: 0.5640, recall-MISC: 0.5361, f1-measure-MISC: 0.5497, precision-overall: 0.6241, recall-overall: 0.6610, f1-measure-overall: 0.6420, loss: 0.1644 ||: 100%|██████████| 220/220 [00:58<00:00,  3.76it/s]\n",
      "precision-PER: 0.7361, recall-PER: 0.7117, f1-measure-PER: 0.7237, precision-ORG: 0.4730, recall-ORG: 0.5421, f1-measure-ORG: 0.5052, precision-MISC: 0.5789, recall-MISC: 0.6009, f1-measure-MISC: 0.5897, precision-LOC: 0.7089, recall-LOC: 0.7409, f1-measure-LOC: 0.7245, precision-overall: 0.6381, recall-overall: 0.6653, f1-measure-overall: 0.6514, loss: 0.1556 ||: 100%|██████████| 51/51 [00:03<00:00, 16.63it/s]\n",
      "precision-PER: 0.6776, recall-PER: 0.7368, f1-measure-PER: 0.7060, precision-LOC: 0.6969, recall-LOC: 0.7478, f1-measure-LOC: 0.7214, precision-ORG: 0.5110, recall-ORG: 0.5585, f1-measure-ORG: 0.5337, precision-MISC: 0.5616, recall-MISC: 0.5372, f1-measure-MISC: 0.5491, precision-overall: 0.6223, recall-overall: 0.6630, f1-measure-overall: 0.6420, loss: 0.1623 ||: 100%|██████████| 220/220 [00:57<00:00,  3.83it/s]\n",
      "precision-PER: 0.7708, recall-PER: 0.6482, f1-measure-PER: 0.7042, precision-LOC: 0.7286, recall-LOC: 0.7218, f1-measure-LOC: 0.7252, precision-ORG: 0.4339, recall-ORG: 0.5996, f1-measure-ORG: 0.5034, precision-MISC: 0.6098, recall-MISC: 0.5965, f1-measure-MISC: 0.6031, precision-overall: 0.6326, recall-overall: 0.6520, f1-measure-overall: 0.6421, loss: 0.1614 ||: 100%|██████████| 51/51 [00:03<00:00, 15.57it/s]\n",
      "precision-PER: 0.6822, recall-PER: 0.7359, f1-measure-PER: 0.7080, precision-LOC: 0.7032, recall-LOC: 0.7455, f1-measure-LOC: 0.7237, precision-ORG: 0.5155, recall-ORG: 0.5648, f1-measure-ORG: 0.5390, precision-MISC: 0.5789, recall-MISC: 0.5509, f1-measure-MISC: 0.5645, precision-overall: 0.6286, recall-overall: 0.6657, f1-measure-overall: 0.6466, loss: 0.1612 ||: 100%|██████████| 220/220 [00:58<00:00,  3.76it/s]\n",
      "precision-PER: 0.7446, recall-PER: 0.7106, f1-measure-PER: 0.7272, precision-LOC: 0.7121, recall-LOC: 0.7539, f1-measure-LOC: 0.7324, precision-ORG: 0.4889, recall-ORG: 0.5436, f1-measure-ORG: 0.5148, precision-MISC: 0.5722, recall-MISC: 0.6063, f1-measure-MISC: 0.5887, precision-overall: 0.6453, recall-overall: 0.6701, f1-measure-overall: 0.6575, loss: 0.1537 ||: 100%|██████████| 51/51 [00:03<00:00, 16.02it/s]\n",
      "precision-PER: 0.6815, recall-PER: 0.7400, f1-measure-PER: 0.7095, precision-LOC: 0.7044, recall-LOC: 0.7496, f1-measure-LOC: 0.7263, precision-ORG: 0.5233, recall-ORG: 0.5649, f1-measure-ORG: 0.5433, precision-MISC: 0.5770, recall-MISC: 0.5538, f1-measure-MISC: 0.5652, precision-overall: 0.6312, recall-overall: 0.6686, f1-measure-overall: 0.6494, loss: 0.1613 ||: 100%|██████████| 220/220 [00:59<00:00,  3.73it/s]\n",
      "precision-PER: 0.7217, recall-PER: 0.7617, f1-measure-PER: 0.7412, precision-LOC: 0.7372, recall-LOC: 0.7284, f1-measure-LOC: 0.7327, precision-ORG: 0.4689, recall-ORG: 0.5615, f1-measure-ORG: 0.5110, precision-MISC: 0.6273, recall-MISC: 0.5933, f1-measure-MISC: 0.6098, precision-overall: 0.6479, recall-overall: 0.6801, f1-measure-overall: 0.6636, loss: 0.1536 ||: 100%|██████████| 51/51 [00:02<00:00, 17.16it/s]\n",
      "precision-PER: 0.6830, recall-PER: 0.7418, f1-measure-PER: 0.7112, precision-LOC: 0.7037, recall-LOC: 0.7457, f1-measure-LOC: 0.7241, precision-ORG: 0.5245, recall-ORG: 0.5672, f1-measure-ORG: 0.5450, precision-MISC: 0.5723, recall-MISC: 0.5489, f1-measure-MISC: 0.5604, precision-overall: 0.6311, recall-overall: 0.6678, f1-measure-overall: 0.6489, loss: 0.1594 ||: 100%|██████████| 220/220 [01:00<00:00,  3.63it/s]\n"
     ]
    },
    {
     "name": "stderr",
     "output_type": "stream",
     "text": [
      "precision-PER: 0.7276, recall-PER: 0.7497, f1-measure-PER: 0.7385, precision-ORG: 0.4574, recall-ORG: 0.5921, f1-measure-ORG: 0.5161, precision-MISC: 0.6386, recall-MISC: 0.5846, f1-measure-MISC: 0.6104, precision-LOC: 0.7473, recall-LOC: 0.7197, f1-measure-LOC: 0.7332, precision-overall: 0.6461, recall-overall: 0.6792, f1-measure-overall: 0.6622, loss: 0.1537 ||: 100%|██████████| 51/51 [00:03<00:00, 16.64it/s]\n",
      "precision-PER: 0.6869, recall-PER: 0.7398, f1-measure-PER: 0.7124, precision-ORG: 0.5203, recall-ORG: 0.5697, f1-measure-ORG: 0.5439, precision-MISC: 0.5750, recall-MISC: 0.5462, f1-measure-MISC: 0.5603, precision-LOC: 0.7064, recall-LOC: 0.7521, f1-measure-LOC: 0.7285, precision-overall: 0.6319, recall-overall: 0.6695, f1-measure-overall: 0.6501, loss: 0.1581 ||: 100%|██████████| 220/220 [00:59<00:00,  3.72it/s]\n",
      "precision-PER: 0.7383, recall-PER: 0.7383, f1-measure-PER: 0.7383, precision-ORG: 0.4699, recall-ORG: 0.5764, f1-measure-ORG: 0.5177, precision-MISC: 0.5764, recall-MISC: 0.6302, f1-measure-MISC: 0.6021, precision-LOC: 0.7509, recall-LOC: 0.7186, f1-measure-LOC: 0.7344, precision-overall: 0.6451, recall-overall: 0.6789, f1-measure-overall: 0.6616, loss: 0.1523 ||: 100%|██████████| 51/51 [00:03<00:00, 16.70it/s]\n",
      "precision-PER: 0.6904, recall-PER: 0.7432, f1-measure-PER: 0.7158, precision-ORG: 0.5302, recall-ORG: 0.5740, f1-measure-ORG: 0.5512, precision-MISC: 0.5838, recall-MISC: 0.5643, f1-measure-MISC: 0.5739, precision-LOC: 0.7105, recall-LOC: 0.7536, f1-measure-LOC: 0.7314, precision-overall: 0.6381, recall-overall: 0.6747, f1-measure-overall: 0.6559, loss: 0.1569 ||: 100%|██████████| 220/220 [01:00<00:00,  3.63it/s]\n",
      "precision-PER: 0.7260, recall-PER: 0.7638, f1-measure-PER: 0.7444, precision-LOC: 0.7315, recall-LOC: 0.7550, f1-measure-LOC: 0.7431, precision-ORG: 0.4960, recall-ORG: 0.5511, f1-measure-ORG: 0.5221, precision-MISC: 0.6272, recall-MISC: 0.5911, f1-measure-MISC: 0.6086, precision-overall: 0.6585, recall-overall: 0.6863, f1-measure-overall: 0.6721, loss: 0.1498 ||: 100%|██████████| 51/51 [00:03<00:00, 15.27it/s]\n",
      "precision-PER: 0.6892, recall-PER: 0.7461, f1-measure-PER: 0.7165, precision-LOC: 0.7104, recall-LOC: 0.7560, f1-measure-LOC: 0.7325, precision-ORG: 0.5293, recall-ORG: 0.5724, f1-measure-ORG: 0.5500, precision-MISC: 0.5862, recall-MISC: 0.5605, f1-measure-MISC: 0.5731, precision-overall: 0.6381, recall-overall: 0.6752, f1-measure-overall: 0.6561, loss: 0.1558 ||: 100%|██████████| 220/220 [00:59<00:00,  3.71it/s]\n",
      "precision-PER: 0.7357, recall-PER: 0.7524, f1-measure-PER: 0.7440, precision-ORG: 0.4684, recall-ORG: 0.5973, f1-measure-ORG: 0.5251, precision-MISC: 0.6082, recall-MISC: 0.6247, f1-measure-MISC: 0.6164, precision-LOC: 0.7676, recall-LOC: 0.7137, f1-measure-LOC: 0.7396, precision-overall: 0.6519, recall-overall: 0.6856, f1-measure-overall: 0.6684, loss: 0.1503 ||: 100%|██████████| 51/51 [00:03<00:00, 16.11it/s]\n",
      "precision-PER: 0.6963, recall-PER: 0.7497, f1-measure-PER: 0.7220, precision-LOC: 0.7192, recall-LOC: 0.7584, f1-measure-LOC: 0.7383, precision-ORG: 0.5278, recall-ORG: 0.5776, f1-measure-ORG: 0.5516, precision-MISC: 0.5795, recall-MISC: 0.5669, f1-measure-MISC: 0.5732, precision-overall: 0.6407, recall-overall: 0.6793, f1-measure-overall: 0.6594, loss: 0.1537 ||: 100%|██████████| 220/220 [00:58<00:00,  3.73it/s]\n",
      "precision-PER: 0.7450, recall-PER: 0.7264, f1-measure-PER: 0.7356, precision-LOC: 0.7422, recall-LOC: 0.7398, f1-measure-LOC: 0.7410, precision-ORG: 0.5033, recall-ORG: 0.5697, f1-measure-ORG: 0.5345, precision-MISC: 0.5955, recall-MISC: 0.6258, f1-measure-MISC: 0.6103, precision-overall: 0.6605, recall-overall: 0.6796, f1-measure-overall: 0.6699, loss: 0.1505 ||: 100%|██████████| 51/51 [00:03<00:00, 15.60it/s]\n",
      "precision-PER: 0.6971, recall-PER: 0.7506, f1-measure-PER: 0.7228, precision-LOC: 0.7095, recall-LOC: 0.7562, f1-measure-LOC: 0.7321, precision-ORG: 0.5298, recall-ORG: 0.5763, f1-measure-ORG: 0.5521, precision-MISC: 0.5806, recall-MISC: 0.5681, f1-measure-MISC: 0.5742, precision-overall: 0.6391, recall-overall: 0.6787, f1-measure-overall: 0.6583, loss: 0.1537 ||: 100%|██████████| 220/220 [00:59<00:00,  3.73it/s]\n",
      "precision-PER: 0.7689, recall-PER: 0.6862, f1-measure-PER: 0.7252, precision-LOC: 0.7356, recall-LOC: 0.7496, f1-measure-LOC: 0.7425, precision-ORG: 0.4714, recall-ORG: 0.5899, f1-measure-ORG: 0.5240, precision-MISC: 0.5734, recall-MISC: 0.6356, f1-measure-MISC: 0.6029, precision-overall: 0.6464, recall-overall: 0.6762, f1-measure-overall: 0.6610, loss: 0.1501 ||: 100%|██████████| 51/51 [00:03<00:00, 14.09it/s]\n",
      "precision-PER: 0.6992, recall-PER: 0.7517, f1-measure-PER: 0.7245, precision-LOC: 0.7122, recall-LOC: 0.7590, f1-measure-LOC: 0.7348, precision-ORG: 0.5332, recall-ORG: 0.5819, f1-measure-ORG: 0.5565, precision-MISC: 0.5930, recall-MISC: 0.5678, f1-measure-MISC: 0.5801, precision-overall: 0.6431, recall-overall: 0.6813, f1-measure-overall: 0.6617, loss: 0.1525 ||: 100%|██████████| 220/220 [00:59<00:00,  3.72it/s]\n",
      "precision-PER: 0.7319, recall-PER: 0.7573, f1-measure-PER: 0.7444, precision-ORG: 0.5212, recall-ORG: 0.5317, f1-measure-ORG: 0.5264, precision-MISC: 0.5579, recall-MISC: 0.6377, f1-measure-MISC: 0.5951, precision-LOC: 0.7428, recall-LOC: 0.7436, f1-measure-LOC: 0.7432, precision-overall: 0.6587, recall-overall: 0.6836, f1-measure-overall: 0.6709, loss: 0.1469 ||: 100%|██████████| 51/51 [00:03<00:00, 15.80it/s]\n",
      "precision-PER: 0.7034, recall-PER: 0.7532, f1-measure-PER: 0.7274, precision-LOC: 0.7195, recall-LOC: 0.7570, f1-measure-LOC: 0.7378, precision-ORG: 0.5418, recall-ORG: 0.5868, f1-measure-ORG: 0.5634, precision-MISC: 0.5951, recall-MISC: 0.5844, f1-measure-MISC: 0.5897, precision-overall: 0.6489, recall-overall: 0.6849, f1-measure-overall: 0.6664, loss: 0.1518 ||: 100%|██████████| 220/220 [01:00<00:00,  3.64it/s]\n",
      "precision-PER: 0.7629, recall-PER: 0.7058, f1-measure-PER: 0.7332, precision-LOC: 0.7217, recall-LOC: 0.7763, f1-measure-LOC: 0.7480, precision-ORG: 0.4884, recall-ORG: 0.5794, f1-measure-ORG: 0.5300, precision-MISC: 0.6267, recall-MISC: 0.6009, f1-measure-MISC: 0.6135, precision-overall: 0.6591, recall-overall: 0.6828, f1-measure-overall: 0.6707, loss: 0.1480 ||: 100%|██████████| 51/51 [00:03<00:00, 13.88it/s]\n",
      "precision-PER: 0.6987, recall-PER: 0.7506, f1-measure-PER: 0.7237, precision-ORG: 0.5388, recall-ORG: 0.5874, f1-measure-ORG: 0.5621, precision-MISC: 0.5901, recall-MISC: 0.5686, f1-measure-MISC: 0.5792, precision-LOC: 0.7205, recall-LOC: 0.7604, f1-measure-LOC: 0.7399, precision-overall: 0.6465, recall-overall: 0.6831, f1-measure-overall: 0.6643, loss: 0.1505 ||: 100%|██████████| 220/220 [01:01<00:00,  3.57it/s]\n",
      "precision-PER: 0.7561, recall-PER: 0.7405, f1-measure-PER: 0.7482, precision-LOC: 0.7333, recall-LOC: 0.7725, f1-measure-LOC: 0.7524, precision-ORG: 0.4926, recall-ORG: 0.5973, f1-measure-ORG: 0.5399, precision-MISC: 0.6296, recall-MISC: 0.6139, f1-measure-MISC: 0.6216, precision-overall: 0.6625, recall-overall: 0.6984, f1-measure-overall: 0.6800, loss: 0.1458 ||: 100%|██████████| 51/51 [00:03<00:00, 15.28it/s]\n",
      "precision-PER: 0.7065, recall-PER: 0.7627, f1-measure-PER: 0.7336, precision-ORG: 0.5479, recall-ORG: 0.5947, f1-measure-ORG: 0.5703, precision-MISC: 0.5981, recall-MISC: 0.5817, f1-measure-MISC: 0.5898, precision-LOC: 0.7207, recall-LOC: 0.7622, f1-measure-LOC: 0.7409, precision-overall: 0.6525, recall-overall: 0.6909, f1-measure-overall: 0.6711, loss: 0.1497 ||: 100%|██████████| 220/220 [01:00<00:00,  3.63it/s]\n",
      "precision-PER: 0.7575, recall-PER: 0.7362, f1-measure-PER: 0.7467, precision-ORG: 0.5081, recall-ORG: 0.5854, f1-measure-ORG: 0.5440, precision-MISC: 0.6170, recall-MISC: 0.6204, f1-measure-MISC: 0.6187, precision-LOC: 0.7376, recall-LOC: 0.7681, f1-measure-LOC: 0.7525, precision-overall: 0.6679, recall-overall: 0.6940, f1-measure-overall: 0.6807, loss: 0.1445 ||: 100%|██████████| 51/51 [00:03<00:00, 16.14it/s]\n"
     ]
    },
    {
     "name": "stderr",
     "output_type": "stream",
     "text": [
      "precision-PER: 0.7024, recall-PER: 0.7530, f1-measure-PER: 0.7268, precision-LOC: 0.7181, recall-LOC: 0.7632, f1-measure-LOC: 0.7400, precision-ORG: 0.5414, recall-ORG: 0.5901, f1-measure-ORG: 0.5647, precision-MISC: 0.5967, recall-MISC: 0.5852, f1-measure-MISC: 0.5909, precision-overall: 0.6484, recall-overall: 0.6877, f1-measure-overall: 0.6675, loss: 0.1488 ||: 100%|██████████| 220/220 [01:00<00:00,  3.65it/s]\n",
      "precision-PER: 0.7365, recall-PER: 0.7633, f1-measure-PER: 0.7497, precision-LOC: 0.7451, recall-LOC: 0.7686, f1-measure-LOC: 0.7567, precision-ORG: 0.5118, recall-ORG: 0.5802, f1-measure-ORG: 0.5439, precision-MISC: 0.6350, recall-MISC: 0.6171, f1-measure-MISC: 0.6260, precision-overall: 0.6696, recall-overall: 0.7009, f1-measure-overall: 0.6849, loss: 0.1433 ||: 100%|██████████| 51/51 [00:04<00:00, 11.73it/s]\n",
      "precision-PER: 0.7038, recall-PER: 0.7523, f1-measure-PER: 0.7272, precision-LOC: 0.7164, recall-LOC: 0.7633, f1-measure-LOC: 0.7391, precision-ORG: 0.5367, recall-ORG: 0.5866, f1-measure-ORG: 0.5605, precision-MISC: 0.5972, recall-MISC: 0.5797, f1-measure-MISC: 0.5883, precision-overall: 0.6470, recall-overall: 0.6858, f1-measure-overall: 0.6659, loss: 0.1475 ||: 100%|██████████| 220/220 [01:01<00:00,  3.60it/s]\n",
      "precision-PER: 0.7616, recall-PER: 0.7302, f1-measure-PER: 0.7456, precision-LOC: 0.7459, recall-LOC: 0.7588, f1-measure-LOC: 0.7523, precision-ORG: 0.4901, recall-ORG: 0.6100, f1-measure-ORG: 0.5435, precision-MISC: 0.6265, recall-MISC: 0.6258, f1-measure-MISC: 0.6262, precision-overall: 0.6641, recall-overall: 0.6957, f1-measure-overall: 0.6795, loss: 0.1435 ||: 100%|██████████| 51/51 [00:04<00:00, 12.33it/s]\n",
      "precision-PER: 0.7092, recall-PER: 0.7588, f1-measure-PER: 0.7332, precision-LOC: 0.7243, recall-LOC: 0.7717, f1-measure-LOC: 0.7473, precision-ORG: 0.5501, recall-ORG: 0.5963, f1-measure-ORG: 0.5723, precision-MISC: 0.5968, recall-MISC: 0.5873, f1-measure-MISC: 0.5920, precision-overall: 0.6548, recall-overall: 0.6939, f1-measure-overall: 0.6738, loss: 0.1456 ||: 100%|██████████| 220/220 [00:59<00:00,  3.71it/s]\n",
      "precision-PER: 0.7389, recall-PER: 0.7714, f1-measure-PER: 0.7548, precision-ORG: 0.5100, recall-ORG: 0.5727, f1-measure-ORG: 0.5395, precision-MISC: 0.6414, recall-MISC: 0.6150, f1-measure-MISC: 0.6279, precision-LOC: 0.7392, recall-LOC: 0.7790, f1-measure-LOC: 0.7585, precision-overall: 0.6700, recall-overall: 0.7046, f1-measure-overall: 0.6869, loss: 0.1413 ||: 100%|██████████| 51/51 [00:03<00:00, 14.28it/s]\n",
      "precision-PER: 0.7094, recall-PER: 0.7585, f1-measure-PER: 0.7331, precision-ORG: 0.5442, recall-ORG: 0.5985, f1-measure-ORG: 0.5701, precision-MISC: 0.6081, recall-MISC: 0.5899, f1-measure-MISC: 0.5988, precision-LOC: 0.7227, recall-LOC: 0.7623, f1-measure-LOC: 0.7420, precision-overall: 0.6537, recall-overall: 0.6919, f1-measure-overall: 0.6723, loss: 0.1462 ||: 100%|██████████| 220/220 [00:56<00:00,  3.90it/s]\n",
      "precision-PER: 0.7229, recall-PER: 0.7861, f1-measure-PER: 0.7532, precision-LOC: 0.7573, recall-LOC: 0.7627, f1-measure-LOC: 0.7600, precision-ORG: 0.5231, recall-ORG: 0.5570, f1-measure-ORG: 0.5395, precision-MISC: 0.6385, recall-MISC: 0.6226, f1-measure-MISC: 0.6304, precision-overall: 0.6748, recall-overall: 0.7018, f1-measure-overall: 0.6880, loss: 0.1398 ||: 100%|██████████| 51/51 [00:02<00:00, 17.18it/s]\n",
      "precision-PER: 0.7054, recall-PER: 0.7597, f1-measure-PER: 0.7315, precision-ORG: 0.5442, recall-ORG: 0.5947, f1-measure-ORG: 0.5683, precision-MISC: 0.5944, recall-MISC: 0.5806, f1-measure-MISC: 0.5874, precision-LOC: 0.7274, recall-LOC: 0.7707, f1-measure-LOC: 0.7485, precision-overall: 0.6525, recall-overall: 0.6925, f1-measure-overall: 0.6719, loss: 0.1449 ||: 100%|██████████| 220/220 [01:00<00:00,  3.62it/s]\n",
      "precision-PER: 0.7358, recall-PER: 0.7785, f1-measure-PER: 0.7565, precision-LOC: 0.7730, recall-LOC: 0.7398, f1-measure-LOC: 0.7561, precision-ORG: 0.5006, recall-ORG: 0.5981, f1-measure-ORG: 0.5450, precision-MISC: 0.6424, recall-MISC: 0.6312, f1-measure-MISC: 0.6368, precision-overall: 0.6721, recall-overall: 0.7030, f1-measure-overall: 0.6872, loss: 0.1410 ||: 100%|██████████| 51/51 [00:03<00:00, 16.72it/s]\n"
     ]
    }
   ],
   "source": [
    "metrics = trainer.train()"
   ]
  },
  {
   "cell_type": "code",
   "execution_count": 23,
   "metadata": {},
   "outputs": [
    {
     "data": {
      "text/plain": [
       "{'best_epoch': 98,\n",
       " 'peak_cpu_memory_MB': 3085.74,\n",
       " 'training_duration': '1:41:26.789174',\n",
       " 'training_start_epoch': 0,\n",
       " 'training_epochs': 99,\n",
       " 'epoch': 99,\n",
       " 'training_precision-LOC': 0.727428949107733,\n",
       " 'training_recall-LOC': 0.7707282913165266,\n",
       " 'training_f1-measure-LOC': 0.7484529071743806,\n",
       " 'training_precision-PER': 0.7054023635340462,\n",
       " 'training_recall-PER': 0.7596969696969696,\n",
       " 'training_f1-measure-PER': 0.7315436241610239,\n",
       " 'training_precision-ORG': 0.544151708164447,\n",
       " 'training_recall-ORG': 0.5946843853820598,\n",
       " 'training_f1-measure-ORG': 0.5682969234257571,\n",
       " 'training_precision-MISC': 0.5944014294222751,\n",
       " 'training_recall-MISC': 0.5805700988947062,\n",
       " 'training_f1-measure-MISC': 0.5874043555031871,\n",
       " 'training_precision-overall': 0.6524720317574882,\n",
       " 'training_recall-overall': 0.6924549980850249,\n",
       " 'training_f1-measure-overall': 0.6718691936082741,\n",
       " 'training_loss': 0.14487948392263866,\n",
       " 'training_cpu_memory_MB': 3085.74,\n",
       " 'validation_precision-LOC': 0.773037542662116,\n",
       " 'validation_recall-LOC': 0.7397931409907458,\n",
       " 'validation_f1-measure-LOC': 0.7560500695409792,\n",
       " 'validation_precision-PER': 0.7357619291944587,\n",
       " 'validation_recall-PER': 0.7785016286644951,\n",
       " 'validation_f1-measure-PER': 0.7565286204167266,\n",
       " 'validation_precision-ORG': 0.5006242197253433,\n",
       " 'validation_recall-ORG': 0.5980611483967189,\n",
       " 'validation_f1-measure-ORG': 0.5450220863064403,\n",
       " 'validation_precision-MISC': 0.6423841059602649,\n",
       " 'validation_recall-MISC': 0.6312364425162689,\n",
       " 'validation_f1-measure-MISC': 0.636761487964939,\n",
       " 'validation_precision-overall': 0.6720836685438455,\n",
       " 'validation_recall-overall': 0.7029619656681252,\n",
       " 'validation_f1-measure-overall': 0.6871761125277118,\n",
       " 'validation_loss': 0.1410264713214893,\n",
       " 'best_validation_precision-LOC': 0.7572972972972973,\n",
       " 'best_validation_recall-LOC': 0.7626565051714752,\n",
       " 'best_validation_f1-measure-LOC': 0.7599674532139452,\n",
       " 'best_validation_precision-PER': 0.7229156265601597,\n",
       " 'best_validation_recall-PER': 0.7861020629750272,\n",
       " 'best_validation_f1-measure-PER': 0.7531859557866862,\n",
       " 'best_validation_precision-ORG': 0.523109243697479,\n",
       " 'best_validation_recall-ORG': 0.5570469798657718,\n",
       " 'best_validation_f1-measure-ORG': 0.5395449620801235,\n",
       " 'best_validation_precision-MISC': 0.6384872080088987,\n",
       " 'best_validation_recall-MISC': 0.6225596529284164,\n",
       " 'best_validation_f1-measure-MISC': 0.6304228445908341,\n",
       " 'best_validation_precision-overall': 0.6747572815533981,\n",
       " 'best_validation_recall-overall': 0.70178391114103,\n",
       " 'best_validation_f1-measure-overall': 0.6880052796567725,\n",
       " 'best_validation_loss': 0.13980494563778242}"
      ]
     },
     "execution_count": 23,
     "metadata": {},
     "output_type": "execute_result"
    }
   ],
   "source": [
    "metrics"
   ]
  },
  {
   "cell_type": "code",
   "execution_count": 26,
   "metadata": {},
   "outputs": [],
   "source": [
    "with open(\"./tmp/model.th\", 'wb') as f:\n",
    "    torch.save(model.state_dict(), f)\n",
    "vocab.save_to_files(\"./tmp/vocabulary\")"
   ]
  },
  {
   "cell_type": "markdown",
   "metadata": {},
   "source": [
    "### Predictions"
   ]
  },
  {
   "cell_type": "code",
   "execution_count": 17,
   "metadata": {},
   "outputs": [],
   "source": [
    "# vocab = Vocabulary.from_files(\"./tmp/vocabulary\")\n",
    "\n",
    "with open(\"/tmp/model.th\", 'rb') as f:\n",
    "    model.load_state_dict(torch.load(f))\n",
    "if USE_GPU: \n",
    "    model.cuda()"
   ]
  },
  {
   "cell_type": "code",
   "execution_count": 18,
   "metadata": {},
   "outputs": [],
   "source": [
    "from allennlp.predictors.predictor import Predictor\n",
    "from allennlp.common.util import JsonDict, sanitize\n",
    "from allennlp.data import Instance"
   ]
  },
  {
   "cell_type": "code",
   "execution_count": 21,
   "metadata": {},
   "outputs": [],
   "source": [
    "class CoNLL03Predictor(Predictor):\n",
    "    def predict_instance(self, instance: Instance) -> JsonDict:\n",
    "        outputs = self._model.forward_on_instance(instance)\n",
    "        label_vocab = self._model.vocab.get_index_to_token_vocabulary('labels')\n",
    "\n",
    "        outputs['tokens'] = [str(token) for token in instance.fields['tokens'].tokens]\n",
    "        outputs['predicted'] = [label_vocab[l] for l in outputs['logits'].argmax(1)]\n",
    "        outputs['labels'] = instance.fields['tags'].labels\n",
    "\n",
    "        return sanitize(outputs)"
   ]
  },
  {
   "cell_type": "code",
   "execution_count": 28,
   "metadata": {},
   "outputs": [],
   "source": [
    "from allennlp.data.iterators import DataIterator\n",
    "from tqdm import tqdm\n",
    "import numpy as np\n",
    "from typing import Iterable\n",
    "\n",
    "class TagsPredictor:\n",
    "    def __init__(self, model: Model, iterator: DataIterator,\n",
    "                 cuda_device: int=-1) -> None:\n",
    "        self.model = model\n",
    "        self.iterator = iterator\n",
    "        self.cuda_device = cuda_device\n",
    "        \n",
    "    def _extract_data(self, batch) -> np.ndarray:\n",
    "        out_dict = self.model(**batch)\n",
    "        return out_dict\n",
    "    \n",
    "    def predict(self, ds: Iterable[Instance]) -> np.ndarray:\n",
    "        pred_generator = self.iterator(ds, num_epochs=1, shuffle=False)\n",
    "        self.model.eval()\n",
    "        pred_generator_tqdm = tqdm(pred_generator,\n",
    "                                   total=self.iterator.get_num_batches(ds))\n",
    "        preds = []\n",
    "        with torch.no_grad():\n",
    "            for batch in pred_generator_tqdm:\n",
    "                batch = nn_util.move_to_device(batch, self.cuda_device)\n",
    "                preds.append(self._extract_data(batch))\n",
    "        return preds"
   ]
  },
  {
   "cell_type": "code",
   "execution_count": 22,
   "metadata": {},
   "outputs": [],
   "source": [
    "predictor = CoNLL03Predictor(model, reader, frozen=True)"
   ]
  },
  {
   "cell_type": "code",
   "execution_count": 49,
   "metadata": {},
   "outputs": [
    {
     "name": "stdout",
     "output_type": "stream",
     "text": [
      "[Takuya, Takagi, scored, the, winner, in, the, 88th, minute, ,, rising, to, head, a, Hiroshige, Yanagimoto, cross, towards, the, Syrian, goal, which, goalkeeper, Salem, Bitar, appeared, to, have, covered, but, then, allowed, to, slip, into, the, net, .]\n"
     ]
    }
   ],
   "source": [
    "print(test_instances[10].fields['tokens'].tokens)"
   ]
  },
  {
   "cell_type": "code",
   "execution_count": 23,
   "metadata": {},
   "outputs": [],
   "source": [
    "tags_pred = predictor.predict_instance(test_instances[10])"
   ]
  },
  {
   "cell_type": "code",
   "execution_count": 24,
   "metadata": {},
   "outputs": [
    {
     "name": "stdout",
     "output_type": "stream",
     "text": [
      "['I-PER', 'I-PER', 'O', 'O', 'O', 'O', 'O', 'O', 'O', 'O', 'O', 'O', 'O', 'O', 'I-PER', 'I-PER', 'O', 'O', 'O', 'I-MISC', 'O', 'O', 'O', 'I-PER', 'I-PER', 'O', 'O', 'O', 'O', 'O', 'O', 'O', 'O', 'O', 'O', 'O', 'O', 'O']\n"
     ]
    }
   ],
   "source": [
    "print(tags_pred['labels'])"
   ]
  },
  {
   "cell_type": "code",
   "execution_count": 51,
   "metadata": {},
   "outputs": [
    {
     "name": "stdout",
     "output_type": "stream",
     "text": [
      "['I-PER', 'I-PER', 'O', 'O', 'O', 'O', 'O', 'O', 'O', 'O', 'O', 'O', 'O', 'O', 'I-PER', 'I-PER', 'O', 'O', 'O', 'I-MISC', 'O', 'O', 'O', 'I-MISC', 'I-ORG', 'O', 'O', 'O', 'O', 'O', 'O', 'O', 'O', 'O', 'O', 'O', 'O', 'O']\n"
     ]
    }
   ],
   "source": [
    "print(tags_pred['predicted'])"
   ]
  },
  {
   "cell_type": "code",
   "execution_count": 29,
   "metadata": {},
   "outputs": [],
   "source": [
    "from allennlp.data.iterators import BasicIterator\n",
    "seq_iterator = BasicIterator(batch_size=BATCH_SIZE)\n",
    "seq_iterator.index_with(vocab)"
   ]
  },
  {
   "cell_type": "code",
   "execution_count": 30,
   "metadata": {},
   "outputs": [],
   "source": [
    "predictor = TagsPredictor(model, seq_iterator, cuda_device=0 if USE_GPU else -1)"
   ]
  },
  {
   "cell_type": "code",
   "execution_count": 31,
   "metadata": {},
   "outputs": [
    {
     "name": "stderr",
     "output_type": "stream",
     "text": [
      "\n",
      "  0%|          | 0/54 [00:00<?, ?it/s]\u001b[A\n",
      "  2%|▏         | 1/54 [00:00<00:11,  4.55it/s]\u001b[A\n",
      "  6%|▌         | 3/54 [00:00<00:09,  5.60it/s]\u001b[A\n",
      "  7%|▋         | 4/54 [00:00<00:12,  4.16it/s]\u001b[A\n",
      "  9%|▉         | 5/54 [00:00<00:10,  4.75it/s]\u001b[A\n",
      " 11%|█         | 6/54 [00:01<00:08,  5.57it/s]\u001b[A\n",
      " 13%|█▎        | 7/54 [00:01<00:07,  6.03it/s]\u001b[A\n",
      " 17%|█▋        | 9/54 [00:01<00:06,  7.12it/s]\u001b[A\n",
      " 20%|██        | 11/54 [00:01<00:05,  7.50it/s]\u001b[A\n",
      " 22%|██▏       | 12/54 [00:01<00:05,  7.90it/s]\u001b[A\n",
      " 24%|██▍       | 13/54 [00:01<00:05,  7.29it/s]\u001b[A\n",
      " 26%|██▌       | 14/54 [00:01<00:05,  7.17it/s]\u001b[A\n",
      " 28%|██▊       | 15/54 [00:02<00:05,  6.68it/s]\u001b[A\n",
      " 30%|██▉       | 16/54 [00:02<00:05,  6.71it/s]\u001b[A\n",
      " 31%|███▏      | 17/54 [00:02<00:05,  6.20it/s]\u001b[A\n",
      " 33%|███▎      | 18/54 [00:02<00:05,  6.50it/s]\u001b[A\n",
      " 35%|███▌      | 19/54 [00:02<00:05,  6.42it/s]\u001b[A\n",
      " 37%|███▋      | 20/54 [00:02<00:05,  6.65it/s]\u001b[A\n",
      " 39%|███▉      | 21/54 [00:03<00:05,  6.09it/s]\u001b[A\n",
      " 41%|████      | 22/54 [00:03<00:05,  6.35it/s]\u001b[A\n",
      " 43%|████▎     | 23/54 [00:03<00:04,  6.51it/s]\u001b[A\n",
      " 44%|████▍     | 24/54 [00:03<00:04,  6.36it/s]\u001b[A\n",
      " 46%|████▋     | 25/54 [00:03<00:04,  6.40it/s]\u001b[A\n",
      " 48%|████▊     | 26/54 [00:03<00:03,  7.00it/s]\u001b[A\n",
      " 50%|█████     | 27/54 [00:03<00:03,  6.77it/s]\u001b[A\n",
      " 52%|█████▏    | 28/54 [00:04<00:03,  7.25it/s]\u001b[A\n",
      " 54%|█████▎    | 29/54 [00:04<00:03,  6.30it/s]\u001b[A\n",
      " 56%|█████▌    | 30/54 [00:04<00:03,  6.27it/s]\u001b[A\n",
      " 57%|█████▋    | 31/54 [00:04<00:03,  6.37it/s]\u001b[A\n",
      " 59%|█████▉    | 32/54 [00:04<00:03,  6.84it/s]\u001b[A\n",
      " 61%|██████    | 33/54 [00:04<00:03,  6.80it/s]\u001b[A\n",
      " 63%|██████▎   | 34/54 [00:05<00:02,  6.93it/s]\u001b[A\n",
      " 65%|██████▍   | 35/54 [00:05<00:02,  7.17it/s]\u001b[A\n",
      " 67%|██████▋   | 36/54 [00:05<00:02,  7.38it/s]\u001b[A\n",
      " 69%|██████▊   | 37/54 [00:05<00:02,  7.27it/s]\u001b[A\n",
      " 70%|███████   | 38/54 [00:05<00:02,  7.61it/s]\u001b[A\n",
      " 72%|███████▏  | 39/54 [00:05<00:01,  8.19it/s]\u001b[A\n",
      " 76%|███████▌  | 41/54 [00:05<00:01,  9.14it/s]\u001b[A\n",
      " 80%|███████▉  | 43/54 [00:05<00:01, 10.18it/s]\u001b[A\n",
      " 83%|████████▎ | 45/54 [00:06<00:00,  9.92it/s]\u001b[A\n",
      " 87%|████████▋ | 47/54 [00:06<00:00, 11.56it/s]\u001b[A\n",
      " 91%|█████████ | 49/54 [00:06<00:00, 10.57it/s]\u001b[A\n",
      " 94%|█████████▍| 51/54 [00:06<00:00,  9.18it/s]\u001b[A\n",
      "100%|██████████| 54/54 [00:07<00:00,  7.64it/s]\u001b[A\n"
     ]
    }
   ],
   "source": [
    "test_preds = predictor.predict(test_instances)"
   ]
  },
  {
   "cell_type": "code",
   "execution_count": 42,
   "metadata": {},
   "outputs": [
    {
     "data": {
      "text/plain": [
       "tensor(0.2731)"
      ]
     },
     "execution_count": 42,
     "metadata": {},
     "output_type": "execute_result"
    }
   ],
   "source": [
    "mean_test_loss = sum([pred['loss'] for pred in test_preds])/len(test_preds)\n",
    "mean_test_loss"
   ]
  },
  {
   "cell_type": "code",
   "execution_count": null,
   "metadata": {},
   "outputs": [],
   "source": []
  }
 ],
 "metadata": {
  "accelerator": "GPU",
  "colab": {
   "collapsed_sections": [],
   "name": "Task (2).ipynb",
   "provenance": []
  },
  "kernelspec": {
   "display_name": "Python 3",
   "language": "python",
   "name": "python3"
  },
  "language_info": {
   "codemirror_mode": {
    "name": "ipython",
    "version": 3
   },
   "file_extension": ".py",
   "mimetype": "text/x-python",
   "name": "python",
   "nbconvert_exporter": "python",
   "pygments_lexer": "ipython3",
   "version": "3.7.4"
  }
 },
 "nbformat": 4,
 "nbformat_minor": 1
}
